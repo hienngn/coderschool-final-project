{
 "cells": [
  {
   "cell_type": "code",
   "execution_count": 12,
   "metadata": {},
   "outputs": [],
   "source": [
    "import pandas as pd \n",
    "import numpy as np\n",
    "import re\n",
    "import matplotlib.pyplot as plt\n",
    "import seaborn as sns\n",
    "import pickle \n",
    "\n",
    "from collections import Counter\n",
    "from tqdm import tqdm"
   ]
  },
  {
   "cell_type": "code",
   "execution_count": 2,
   "metadata": {},
   "outputs": [],
   "source": [
    "import time\n",
    "start_time = time.time()\n",
    "\n",
    "from sklearn.pipeline import Pipeline\n",
    "from sklearn.model_selection import train_test_split\n",
    "from sklearn.metrics import confusion_matrix, accuracy_score\n",
    "from sklearn.model_selection import cross_val_score\n",
    "from sklearn.model_selection import GridSearchCV\n",
    "from sklearn.ensemble import RandomForestClassifier\n",
    "from sklearn.metrics import mean_squared_error"
   ]
  },
  {
   "cell_type": "code",
   "execution_count": 3,
   "metadata": {},
   "outputs": [],
   "source": [
    "def clean_string_name(string):\n",
    "    text = string.replace(' Size: 4 oz. * USDA Certified Organic Ingredient ** None remains after saponifying oils into soap and glycerin', '')\n",
    "    pattern = \"[\\|\\*\\_\\'\\{}&]\".format('\"')\n",
    "    regex1 = re.compile('\\[.*]')\n",
    "    regex2 = re.compile('\\[.*}')\n",
    "    text = re.sub(pattern, \"\", text)\n",
    "    text = re.sub(regex1, \"\", text)\n",
    "    text = re.sub(regex2, \"\", text)\n",
    "    text = text.strip('\\x0c')\n",
    "    text = text.strip(' ')\n",
    "    text = text.upper()\n",
    "    text = text.replace('INACTIVE INGREDIENTS:', '')\n",
    "    text = text.replace('ACTIVE INGREDIENTS:', '')\n",
    "\n",
    "    return text"
   ]
  },
  {
   "cell_type": "code",
   "execution_count": 8,
   "metadata": {},
   "outputs": [],
   "source": [
    "mismatch = ['CAVIAR WATER', 'STEM WATER']\n",
    "def convert_new_ing_list(x):\n",
    "    trimed = [name.strip(\" '\").strip(\"''\") for name in x.strip('[]').split(',')]\n",
    "    res = ''\n",
    "\n",
    "    for i in range(len(trimed)):\n",
    "        if i != (len(trimed) -1):\n",
    "            if trimed[i] in mismatch:\n",
    "                res = res + 'WATER' + ', '\n",
    "            else:\n",
    "                res = res + trimed[i] + ', '\n",
    "        else: \n",
    "            if trimed[i] in mismatch:\n",
    "                res = res + 'WATER' + ', '\n",
    "            else:\n",
    "                res = res + trimed[i]\n",
    "    return res"
   ]
  },
  {
   "cell_type": "markdown",
   "metadata": {},
   "source": [
    "# **Load dataset**"
   ]
  },
  {
   "cell_type": "code",
   "execution_count": 15,
   "metadata": {},
   "outputs": [],
   "source": [
    "df_skin = pd.read_csv('../Database/EWG/ewg_skin_products_transformed_8208.csv')\n",
    "df_sun = pd.read_csv('../Database/EWG/ewg_sun_products_transformed_1565.csv')\n",
    "df_makeup = pd.read_csv('../Database/EWG/ewg_makeup_products_transformed_10527.csv')\n",
    "\n",
    "df_hair = pd.read_csv('../Database/EWG/ewg_hair_products_transformed_4908.csv')\n",
    "df_or = pd.read_csv('../Database/EWG/ewg_oralcare_products_transformed_937.csv')\n",
    "df_frag = pd.read_csv('../Database/EWG/ewg_fragrance_products_transformed_484.csv')"
   ]
  },
  {
   "cell_type": "code",
   "execution_count": 16,
   "metadata": {},
   "outputs": [],
   "source": [
    "df_all = pd.concat([df_skin, df_sun, df_makeup, df_hair, df_or, df_frag])"
   ]
  },
  {
   "cell_type": "code",
   "execution_count": 17,
   "metadata": {},
   "outputs": [],
   "source": [
    "df_all.drop_duplicates(inplace=True)\n",
    "df_all['new_ing_list_fixed'] = df_all['new_ing_list'].apply(convert_new_ing_list)\n",
    "df_all = df_all.sample(frac=1)"
   ]
  },
  {
   "cell_type": "code",
   "execution_count": 18,
   "metadata": {},
   "outputs": [],
   "source": [
    "df_all.reset_index(drop=True, inplace=True)"
   ]
  },
  {
   "cell_type": "code",
   "execution_count": 13,
   "metadata": {},
   "outputs": [],
   "source": [
    "with open('ingredient_idx.pickle', 'rb') as handle:\n",
    "    ingredient_idx = pickle.load(handle)"
   ]
  },
  {
   "cell_type": "code",
   "execution_count": 14,
   "metadata": {},
   "outputs": [
    {
     "data": {
      "text/plain": [
       "7433"
      ]
     },
     "execution_count": 14,
     "metadata": {},
     "output_type": "execute_result"
    }
   ],
   "source": [
    "len(ingredient_idx)"
   ]
  },
  {
   "cell_type": "markdown",
   "metadata": {},
   "source": [
    "# **Model**"
   ]
  },
  {
   "cell_type": "code",
   "execution_count": 28,
   "metadata": {},
   "outputs": [],
   "source": [
    "from sklearn.base import BaseEstimator, TransformerMixin\n",
    "from sklearn.neighbors import NearestNeighbors\n",
    "\n",
    "class IngredientTokenizer(BaseEstimator, TransformerMixin):\n",
    "    def __init__(self):\n",
    "        pass\n",
    "    \n",
    "    def fit(self, X, y=None):\n",
    "        return self\n",
    "    \n",
    "    def transform(self, X): # X: nested list\n",
    "        M = len(X)\n",
    "        N = len(ingredient_idx)\n",
    "        A = np.zeros((M, N), dtype=np.uint8)\n",
    "        i= 0\n",
    "        for ing_list in X:\n",
    "            x = np.zeros(N, dtype=np.uint8)\n",
    "            for ingredient in ing_list:\n",
    "                # Get the index for each ingredient\n",
    "                if ingredient in ingredient_idx.keys():\n",
    "                    idx = ingredient_idx[ingredient]\n",
    "                    x[idx] = 1\n",
    "                else:\n",
    "                    pass\n",
    "            \n",
    "            A[i, :] = x\n",
    "            i += 1\n",
    "        return A"
   ]
  },
  {
   "cell_type": "code",
   "execution_count": 26,
   "metadata": {},
   "outputs": [],
   "source": [
    "def column_to_list(df, col_name):\n",
    "    corpus = []\n",
    "    for i in tqdm(range(len(df))):\n",
    "        \n",
    "        ingredients = df[col_name][i]\n",
    "        if not isinstance(ingredients, str):\n",
    "            print(ingredients)\n",
    "            ingredients = str(ingredients)\n",
    "        tokens = ingredients.split(', ')    \n",
    "        corpus.append(tokens)\n",
    "    return corpus"
   ]
  },
  {
   "cell_type": "code",
   "execution_count": null,
   "metadata": {},
   "outputs": [],
   "source": []
  },
  {
   "cell_type": "code",
   "execution_count": 24,
   "metadata": {},
   "outputs": [
    {
     "name": "stderr",
     "output_type": "stream",
     "text": [
      "100%|██████████| 23260/23260 [00:02<00:00, 7854.31it/s] \n"
     ]
    }
   ],
   "source": [
    "X = column_to_list(df_all, 'new_ing_list_fixed')"
   ]
  },
  {
   "cell_type": "code",
   "execution_count": 29,
   "metadata": {},
   "outputs": [],
   "source": [
    "knn_pipeline = Pipeline([\n",
    "        ('tokenizer', IngredientTokenizer()),\n",
    "        ('KNN', NearestNeighbors(n_neighbors=5)),\n",
    "    ])"
   ]
  },
  {
   "cell_type": "code",
   "execution_count": 30,
   "metadata": {},
   "outputs": [
    {
     "data": {
      "text/plain": [
       "Pipeline(steps=[('tokenizer', IngredientTokenizer()),\n",
       "                ('KNN', NearestNeighbors())])"
      ]
     },
     "execution_count": 30,
     "metadata": {},
     "output_type": "execute_result"
    }
   ],
   "source": [
    "knn_pipeline.fit(X)"
   ]
  },
  {
   "cell_type": "code",
   "execution_count": 37,
   "metadata": {},
   "outputs": [
    {
     "data": {
      "text/plain": [
       "cat_name                                                            Sun\n",
       "subcat_name                                        Moisturizer With SPF\n",
       "product_url           https://www.ewg.org/skindeep/products/932934-F...\n",
       "product_brand                                          First Aid Beauty\n",
       "product_name               Ultra Repair Tinted Moisturizer, Tan, SPF 30\n",
       "product_score                                                        03\n",
       "product_img           https://static.ewg.org/skindeep_images/9329/93...\n",
       "ingredient_list       Active Ingredients: Avobenzone 3%, Octinoxate ...\n",
       "new_ing_list          ['AVOBENZONE', 'OCTINOXATE', 'OCTISALATE', 'OC...\n",
       "new_ing_list_fixed    AVOBENZONE, OCTINOXATE, OCTISALATE, OCTOCRYLEN...\n",
       "Name: 90, dtype: object"
      ]
     },
     "execution_count": 37,
     "metadata": {},
     "output_type": "execute_result"
    }
   ],
   "source": [
    "df_all.loc[90, :]"
   ]
  },
  {
   "cell_type": "code",
   "execution_count": 41,
   "metadata": {},
   "outputs": [
    {
     "data": {
      "text/plain": [
       "[['AVOBENZONE,',\n",
       "  'OCTINOXATE,',\n",
       "  'OCTISALATE,',\n",
       "  'OCTOCRYLENE,',\n",
       "  'CYCLOPENTASILOXANE,',\n",
       "  'DIMETHICONE,',\n",
       "  'CETEARYL',\n",
       "  'ALCOHOL,',\n",
       "  'CETEARYL',\n",
       "  'GLUCOSIDE,',\n",
       "  'POTASSIUM',\n",
       "  'CETYL',\n",
       "  'PHOSPHATE,',\n",
       "  'POLYGLYCERYL-4',\n",
       "  'ISOSTEARATE,',\n",
       "  'DIMETHICONE',\n",
       "  'CROSSPOLYMER,',\n",
       "  'TOCOPHERYL',\n",
       "  'ACETATE,',\n",
       "  'GLYCERIN,',\n",
       "  'CETYL',\n",
       "  'PEG-8',\n",
       "  'DIMETHICONE,',\n",
       "  'CETYL',\n",
       "  'DIMETHICONE,',\n",
       "  'POLYSORBATE',\n",
       "  '60,',\n",
       "  'BUTYLENE',\n",
       "  'GLYCOL,',\n",
       "  'HEXYL',\n",
       "  'LAURATE,',\n",
       "  'COLLOIDAL',\n",
       "  'OATMEAL,',\n",
       "  'PHENOXYETHANOL,',\n",
       "  'SODIUM',\n",
       "  'DEHYDROACETATE,',\n",
       "  'SODIUM',\n",
       "  'HYALURONATE,',\n",
       "  'CAMELLIA',\n",
       "  'SINENSIS',\n",
       "  'LEAF',\n",
       "  'EXTRACT,',\n",
       "  'CARBOMER,',\n",
       "  'TRIBEHENIN,',\n",
       "  'LIMONENE,',\n",
       "  'TETRASODIUM',\n",
       "  'EDTA,',\n",
       "  'AMINOMETHYL',\n",
       "  'PROPANOL,',\n",
       "  'CITRUS',\n",
       "  'NOBILIS',\n",
       "  'PEEL',\n",
       "  'OIL,',\n",
       "  'ALLANTOIN,',\n",
       "  'SODIUM',\n",
       "  'ASCORBATE,',\n",
       "  'GLYCYRRHIZA',\n",
       "  'GLABRA',\n",
       "  'ROOT',\n",
       "  'EXTRACT,',\n",
       "  'CHRYSANTHEMUM',\n",
       "  'PARTHENIUM',\n",
       "  'FLOWER',\n",
       "  'EXTRACT,',\n",
       "  'MICA']]"
      ]
     },
     "execution_count": 41,
     "metadata": {},
     "output_type": "execute_result"
    }
   ],
   "source": [
    "ext = df_all.iloc[90]['new_ing_list_fixed']\n",
    "test = [[i for i in ext.split(' ')]]\n",
    "test"
   ]
  },
  {
   "cell_type": "code",
   "execution_count": 44,
   "metadata": {},
   "outputs": [
    {
     "ename": "AttributeError",
     "evalue": "'NearestNeighbors' object has no attribute 'predict'",
     "output_type": "error",
     "traceback": [
      "\u001b[0;31m---------------------------------------------------------------------------\u001b[0m",
      "\u001b[0;31mAttributeError\u001b[0m                            Traceback (most recent call last)",
      "\u001b[0;32m<ipython-input-44-0635ebeee481>\u001b[0m in \u001b[0;36m<module>\u001b[0;34m\u001b[0m\n\u001b[0;32m----> 1\u001b[0;31m \u001b[0mdistances\u001b[0m\u001b[0;34m,\u001b[0m \u001b[0mindices\u001b[0m \u001b[0;34m=\u001b[0m \u001b[0mknn_pipeline\u001b[0m\u001b[0;34m.\u001b[0m\u001b[0mpredict\u001b[0m\u001b[0;34m(\u001b[0m\u001b[0;34m[\u001b[0m\u001b[0mtest\u001b[0m\u001b[0;34m]\u001b[0m\u001b[0;34m)\u001b[0m\u001b[0;34m\u001b[0m\u001b[0;34m\u001b[0m\u001b[0m\n\u001b[0m\u001b[1;32m      2\u001b[0m \u001b[0mdistances\u001b[0m\u001b[0;34m,\u001b[0m \u001b[0mindices\u001b[0m\u001b[0;34m\u001b[0m\u001b[0;34m\u001b[0m\u001b[0m\n",
      "\u001b[0;32m~/miniconda3/envs/cs_ftmle/lib/python3.7/site-packages/sklearn/utils/metaestimators.py\u001b[0m in \u001b[0;36m__get__\u001b[0;34m(self, obj, type)\u001b[0m\n\u001b[1;32m    111\u001b[0m                     \u001b[0;32mcontinue\u001b[0m\u001b[0;34m\u001b[0m\u001b[0;34m\u001b[0m\u001b[0m\n\u001b[1;32m    112\u001b[0m                 \u001b[0;32melse\u001b[0m\u001b[0;34m:\u001b[0m\u001b[0;34m\u001b[0m\u001b[0;34m\u001b[0m\u001b[0m\n\u001b[0;32m--> 113\u001b[0;31m                     \u001b[0mgetattr\u001b[0m\u001b[0;34m(\u001b[0m\u001b[0mdelegate\u001b[0m\u001b[0;34m,\u001b[0m \u001b[0mself\u001b[0m\u001b[0;34m.\u001b[0m\u001b[0mattribute_name\u001b[0m\u001b[0;34m)\u001b[0m\u001b[0;34m\u001b[0m\u001b[0;34m\u001b[0m\u001b[0m\n\u001b[0m\u001b[1;32m    114\u001b[0m                     \u001b[0;32mbreak\u001b[0m\u001b[0;34m\u001b[0m\u001b[0;34m\u001b[0m\u001b[0m\n\u001b[1;32m    115\u001b[0m             \u001b[0;32melse\u001b[0m\u001b[0;34m:\u001b[0m\u001b[0;34m\u001b[0m\u001b[0;34m\u001b[0m\u001b[0m\n",
      "\u001b[0;31mAttributeError\u001b[0m: 'NearestNeighbors' object has no attribute 'predict'"
     ]
    }
   ],
   "source": [
    "distances, indices = knn_pipeline.kneighbors([test])\n",
    "distances, indices"
   ]
  },
  {
   "cell_type": "code",
   "execution_count": null,
   "metadata": {},
   "outputs": [],
   "source": [
    "df_all.iloc[90,:]"
   ]
  },
  {
   "cell_type": "code",
   "execution_count": null,
   "metadata": {},
   "outputs": [],
   "source": [
    "location = indices.tolist()[0]\n",
    "df_all.iloc[location, :]"
   ]
  }
 ],
 "metadata": {
  "kernelspec": {
   "display_name": "Python 3",
   "language": "python",
   "name": "python3"
  },
  "language_info": {
   "codemirror_mode": {
    "name": "ipython",
    "version": 3
   },
   "file_extension": ".py",
   "mimetype": "text/x-python",
   "name": "python",
   "nbconvert_exporter": "python",
   "pygments_lexer": "ipython3",
   "version": "3.7.8"
  }
 },
 "nbformat": 4,
 "nbformat_minor": 4
}
