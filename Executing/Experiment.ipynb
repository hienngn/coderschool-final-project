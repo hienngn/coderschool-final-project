{
 "cells": [
  {
   "cell_type": "code",
   "execution_count": 1,
   "metadata": {},
   "outputs": [
    {
     "name": "stdout",
     "output_type": "stream",
     "text": [
      "Collecting pytesseract\n",
      "  Downloading pytesseract-0.3.6.tar.gz (13 kB)\n",
      "Requirement already satisfied: Pillow in /Users/macbookpro/miniconda3/envs/cs_ftmle/lib/python3.7/site-packages (from pytesseract) (7.2.0)\n",
      "Building wheels for collected packages: pytesseract\n",
      "  Building wheel for pytesseract (setup.py) ... \u001b[?25ldone\n",
      "\u001b[?25h  Created wheel for pytesseract: filename=pytesseract-0.3.6-py2.py3-none-any.whl size=13631 sha256=3417507cdafdbd76ad5bdf6e3a160fee769d10871c8ee71c25685626c39059e7\n",
      "  Stored in directory: /Users/macbookpro/Library/Caches/pip/wheels/f1/2f/a5/574c57fb22cfcf24f315c8feda132fd0463a9b07ef78394d07\n",
      "Successfully built pytesseract\n",
      "Installing collected packages: pytesseract\n",
      "Successfully installed pytesseract-0.3.6\n",
      "Note: you may need to restart the kernel to use updated packages.\n"
     ]
    }
   ],
   "source": [
    "pip install pytesseract"
   ]
  },
  {
   "cell_type": "code",
   "execution_count": 1,
   "metadata": {},
   "outputs": [],
   "source": [
    "import re\n",
    "import cv2\n",
    "import numpy as np\n",
    "import shutil\n",
    "import os\n",
    "import random\n",
    "import pytesseract\n",
    "from pytesseract import Output\n",
    "from matplotlib import pyplot as plt\n",
    "\n",
    "try:\n",
    "    from PIL import Image\n",
    "except ImportError:\n",
    "    import Image"
   ]
  },
  {
   "cell_type": "code",
   "execution_count": 2,
   "metadata": {},
   "outputs": [],
   "source": [
    "receipt = cv2.imread('../Sample_images/receipt.jpg')\n",
    "cv2.imshow(\"sample\", receipt)\n",
    "cv2.waitKey(0)\n",
    "cv2.destroyAllWindows()"
   ]
  },
  {
   "cell_type": "markdown",
   "metadata": {},
   "source": [
    "## **Preprocessing functions**"
   ]
  },
  {
   "cell_type": "code",
   "execution_count": 41,
   "metadata": {},
   "outputs": [],
   "source": [
    "# get grayscale image\n",
    "def get_grayscale(image):\n",
    "    return cv2.cvtColor(image, cv2.COLOR_BGR2GRAY)\n",
    "\n",
    "# noise removal\n",
    "def remove_noise(image):\n",
    "    return cv2.GaussianBlur(image, (5,5))\n",
    "\n",
    "# thresholding\n",
    "def thresholding(image):\n",
    "    return cv2.adaptiveThreshold(image, 255, cv2.ADAPTIVE_THRESH_MEAN_C, cv2.THRESH_BINARY, 7, 4)\n",
    "                            \n",
    "# return cv2.threshold(image, 0, 255, cv2.THRESH_BINARY + cv2.THRESH_OTSU)[1]\n",
    "\n",
    "# dilation: enhance the bright area\n",
    "def dilate(image):\n",
    "  kernel = np.ones((5,5), np.uint8)\n",
    "  return cv2.dilate(image, kernel, iterations=1)\n",
    "\n",
    "# erosion: enhance the dark area\n",
    "def erode(image):\n",
    "  kernel = np.ones((5,5), np.unint8)\n",
    "  return cv2.erode(image, kernel, iterations=1)\n",
    "\n",
    "# opening: erosion follow by a dilation\n",
    "def opening(image):\n",
    "  kernel = np.ones((5,5), np.uint8)\n",
    "  return cv2.morphologyEx(image, cv2.MORPH_OPEN, kernel)\n",
    "\n",
    "# closing: Dilation followed by Erosion. Removing black holes inside the object \n",
    "def closing(image):\n",
    "  kernel = np.ones((5,5), np.uint8)\n",
    "  return cv2.morphologyEx(opening(image), cv2.MORPH_CLOSE, kernel)\n",
    "\n",
    "# canny\n",
    "def canny(image):\n",
    "      return cv2.Canny(image, 100, 200)\n",
    "\n",
    "# deskew image\n",
    "def deskew(image):\n",
    "    coords = np.column_stack(np.where(image>0))\n",
    "    angle = cv2.minAreaRect(coords)[-1]\n",
    "    if angle < -45:\n",
    "        angle = -(90 + angle)\n",
    "    else:\n",
    "        angle = -angle\n",
    "    (h, w) = image.shape[:2]\n",
    "    center = (w // 2, h // 2)\n",
    "    M = cv2.getRotationMatrix2D(center, angle, 1.0)\n",
    "    rotated = cv2.warpAffine(image, M, (w, h), flags=cv2.INTER_CUBIC, borderMode=cv2.BORDER_REPLICATE)\n",
    "    return rotated\n",
    "\n",
    "# template matching\n",
    "def match_template(image, template):\n",
    "    return cv2.matchTemplate(image, template, cv2.TM_CCOEFF_NORMED)"
   ]
  },
  {
   "cell_type": "markdown",
   "metadata": {},
   "source": [
    "## **Compute accuracy funtion**"
   ]
  },
  {
   "cell_type": "code",
   "execution_count": 46,
   "metadata": {},
   "outputs": [],
   "source": [
    "import string\n",
    "import unicodedata\n",
    "import editdistance\n",
    "\n",
    "def ocr_metrics(predicts, ground_truth, norm_accentuation=False, norm_punctuation=False):\n",
    "    \"\"\"Calculate Character Error Rate (CER), Word Error Rate (WER) and Sequence Error Rate (SER)\"\"\"\n",
    "\n",
    "    if len(predicts) == 0 or len(ground_truth) == 0:\n",
    "        return (1, 1, 1)\n",
    "\n",
    "    cer, wer, ser = [], [], []\n",
    "\n",
    "    for (pd, gt) in zip(predicts, ground_truth):\n",
    "\n",
    "        if norm_accentuation:\n",
    "            pd = unicodedata.normalize(\"NFKD\", pd).encode(\"ASCII\", \"ignore\").decode(\"ASCII\")\n",
    "            gt = unicodedata.normalize(\"NFKD\", gt).encode(\"ASCII\", \"ignore\").decode(\"ASCII\")\n",
    "\n",
    "        if norm_punctuation:\n",
    "            pd = pd.translate(str.maketrans(\"\", \"\", string.punctuation))\n",
    "            gt = gt.translate(str.maketrans(\"\", \"\", string.punctuation))\n",
    "\n",
    "        pd_cer, gt_cer = list(pd.lower()), list(gt.lower())\n",
    "        dist = editdistance.eval(pd_cer, gt_cer)\n",
    "        cer.append(dist / (max(len(pd_cer), len(gt_cer))))\n",
    "\n",
    "        pd_wer, gt_wer = pd.lower().split(), gt.lower().split()\n",
    "        dist = editdistance.eval(pd_wer, gt_wer)\n",
    "        wer.append(dist / (max(len(pd_wer), len(gt_wer))))\n",
    "\n",
    "        pd_ser, gt_ser = [pd], [gt]\n",
    "        dist = editdistance.eval(pd_ser, gt_ser)\n",
    "        ser.append(dist / (max(len(pd_ser), len(gt_ser))))\n",
    "\n",
    "    cer_f = sum(cer) / len(cer)\n",
    "    wer_f = sum(wer) / len(wer)\n",
    "    ser_f = sum(ser) / len(ser)\n",
    "\n",
    "    return (cer_f, wer_f, ser_f)"
   ]
  },
  {
   "cell_type": "code",
   "execution_count": 44,
   "metadata": {},
   "outputs": [],
   "source": [
    "# evaluate = ocr_metrics(predicts=all_predictions,\n",
    "#                                   ground_truth=valid_orig_txt,\n",
    "#                                   norm_accentuation=False,\n",
    "#                                   norm_punctuation=False)\n",
    "\n",
    "# e_corpus = \"\\n\".join([\n",
    "#     \"Metrics:\",\n",
    "#     \"Character Error Rate: {}\".format(evaluate[0]),\n",
    "#     \"Word Error Rate:      {}\".format(evaluate[1]),\n",
    "#     \"Sequence Error Rate:  {}\".format(evaluate[2]),\n",
    "# ])"
   ]
  },
  {
   "cell_type": "markdown",
   "metadata": {},
   "source": [
    "## **Testing**"
   ]
  },
  {
   "cell_type": "markdown",
   "metadata": {},
   "source": [
    "### **1. Tesseract only**"
   ]
  },
  {
   "cell_type": "code",
   "execution_count": 3,
   "metadata": {},
   "outputs": [
    {
     "data": {
      "text/plain": [
       "LooseVersion ('4.1.1')"
      ]
     },
     "execution_count": 3,
     "metadata": {},
     "output_type": "execute_result"
    }
   ],
   "source": [
    "pytesseract.get_tesseract_version()"
   ]
  },
  {
   "cell_type": "code",
   "execution_count": 4,
   "metadata": {},
   "outputs": [
    {
     "data": {
      "text/plain": [
       "' \\n\\n \\n\\nCanna Company, In.\\n123 High Street, Canna City, CA\\n301-765-4321\\nJanuary 1,2018 4:20pm\\n\\nReceipt #289111\\n\\nPatient MMIC # 010787693 Expiration: 12/10/2018\\n\\nProduct Price\\n(Overpriced Kush - Quarter Ounce $100.00\\nHappy Hippie Haze- Quarter Ounce $75.00\\nAffordable Afghan - Quarter Ounce $45.00\\nTrendyCo Vape Cartridge Sour Grapes - 1/2 gram $3000\\n\\n‘The cannabis excise taxes are included in the total amount ofthis invoice.\\n\\nOriginal Price: $250.00\\nSenior Discount 109% $25.00\\nPretax Tota: $225.00\\nLocal Cannabis Sales Tax 2% $450\\nSubtotal: $229.50\\nMMIC Card Sales Tax 0% $0.00\\nTotal: $229.50\\nPaid: $229.50\\nChange: $0.00\\n\\nHappy New Year!\\n\\n \\n\\n \\n\\x0c'"
      ]
     },
     "execution_count": 4,
     "metadata": {},
     "output_type": "execute_result"
    }
   ],
   "source": [
    "# Adding custom options\n",
    "# custom_config = r'--oem 3 --psm 6'\n",
    "# print(pytesseract.image_to_string(receipt, config=custom_config))\n",
    "pytesseract.image_to_string((Image.open('../Sample_images/receipt.jpg')))"
   ]
  },
  {
   "cell_type": "markdown",
   "metadata": {},
   "source": [
    "### **2. CTPN + Tesseract**"
   ]
  },
  {
   "cell_type": "code",
   "execution_count": null,
   "metadata": {},
   "outputs": [],
   "source": []
  },
  {
   "cell_type": "markdown",
   "metadata": {},
   "source": [
    "### **3. CTPN + Preprocessing + Tesseract**"
   ]
  },
  {
   "cell_type": "code",
   "execution_count": null,
   "metadata": {},
   "outputs": [],
   "source": []
  },
  {
   "cell_type": "markdown",
   "metadata": {},
   "source": [
    "### **4. Dewarp + CTPN + Tesseract**"
   ]
  },
  {
   "cell_type": "code",
   "execution_count": null,
   "metadata": {},
   "outputs": [],
   "source": []
  },
  {
   "cell_type": "markdown",
   "metadata": {},
   "source": [
    "### **5. Dewarp + CTPN + Preprocessing + Tesseract**"
   ]
  },
  {
   "cell_type": "code",
   "execution_count": null,
   "metadata": {},
   "outputs": [],
   "source": []
  }
 ],
 "metadata": {
  "kernelspec": {
   "display_name": "Python 3",
   "language": "python",
   "name": "python3"
  },
  "language_info": {
   "codemirror_mode": {
    "name": "ipython",
    "version": 3
   },
   "file_extension": ".py",
   "mimetype": "text/x-python",
   "name": "python",
   "nbconvert_exporter": "python",
   "pygments_lexer": "ipython3",
   "version": "3.7.8"
  }
 },
 "nbformat": 4,
 "nbformat_minor": 4
}
