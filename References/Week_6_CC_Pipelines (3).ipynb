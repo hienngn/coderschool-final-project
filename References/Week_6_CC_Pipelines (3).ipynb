{
 "cells": [
  {
   "cell_type": "code",
   "execution_count": 30,
   "metadata": {},
   "outputs": [],
   "source": [
    "import numpy as np\n",
    "import pandas as pd\n",
    "import seaborn as sns\n",
    "import xgboost as xgb\n",
    "import matplotlib.pyplot as plt\n",
    "%matplotlib inline\n",
    "\n",
    "import warnings\n",
    "warnings.filterwarnings('ignore')\n",
    "\n",
    "sns.set_style(\"whitegrid\")"
   ]
  },
  {
   "cell_type": "code",
   "execution_count": 5,
   "metadata": {},
   "outputs": [
    {
     "name": "stdout",
     "output_type": "stream",
     "text": [
      "Training data: (60000, 28, 28) (60000,)\n",
      "Test data: (10000, 28, 28) (10000,)\n"
     ]
    }
   ],
   "source": [
    "from tensorflow.keras.datasets import fashion_mnist\n",
    "\n",
    "(X_train, y_train), (X_test, y_test) = fashion_mnist.load_data()\n",
    "\n",
    "print('Training data:', X_train.shape, y_train.shape)\n",
    "print('Test data:', X_test.shape, y_test.shape)"
   ]
  },
  {
   "cell_type": "code",
   "execution_count": 25,
   "metadata": {},
   "outputs": [],
   "source": [
    "from sklearn.preprocessing import StandardScaler\n",
    "from sklearn.linear_model import LogisticRegression\n",
    "from sklearn.pipeline import Pipeline\n",
    "from sklearn.model_selection import train_test_split\n",
    "from sklearn.base import BaseEstimator, TransformerMixin\n",
    "from sklearn.metrics import accuracy_score\n",
    "from skimage.feature import hog"
   ]
  },
  {
   "cell_type": "code",
   "execution_count": 7,
   "metadata": {},
   "outputs": [],
   "source": [
    "class HogTransformer(BaseEstimator, TransformerMixin):\n",
    "    \"\"\"\n",
    "    Expects an array of 2d arrays (1 channel images)\n",
    "    Calculates hog features for each img\n",
    "    \"\"\"\n",
    " \n",
    "    def __init__(self, y=None, orientations=9,\n",
    "                 pixels_per_cell=(8, 8),\n",
    "                 cells_per_block=(3, 3), block_norm='L2-Hys'):\n",
    "        self.y = y\n",
    "        self.orientations = orientations\n",
    "        self.pixels_per_cell = pixels_per_cell\n",
    "        self.cells_per_block = cells_per_block\n",
    "        self.block_norm = block_norm\n",
    " \n",
    "    def fit(self, X, y=None):\n",
    "        return self\n",
    " \n",
    "    def transform(self, X, y=None):\n",
    " \n",
    "        def local_hog(X):\n",
    "            return hog(X,\n",
    "                       orientations=self.orientations,\n",
    "                       pixels_per_cell=self.pixels_per_cell,\n",
    "                       cells_per_block=self.cells_per_block,\n",
    "                       block_norm=self.block_norm)\n",
    " \n",
    "        try: # parallel\n",
    "            return np.array([local_hog(img) for img in X])\n",
    "        except:\n",
    "            return np.array([local_hog(img) for img in X])"
   ]
  },
  {
   "cell_type": "code",
   "execution_count": 8,
   "metadata": {},
   "outputs": [],
   "source": [
    "class FlattenTransformer(BaseEstimator, TransformerMixin):\n",
    "    def __init__(self):\n",
    "        return\n",
    "    \n",
    "    def fit(self, X, y=None):\n",
    "        return self\n",
    "    \n",
    "    def transform(self, X, y=None):\n",
    "        return X.reshape((-1, 784))/255"
   ]
  },
  {
   "cell_type": "code",
   "execution_count": 12,
   "metadata": {},
   "outputs": [],
   "source": [
    "lrg_pipeline = Pipeline(steps=[\n",
    "    (\"flatten_transformer\", FlattenTransformer()),\n",
    "    (\"standard_scaler\", StandardScaler()),\n",
    "    (\"logistic_reg\", LogisticRegression(penalty='l2', random_state=100, solver='lbfgs', max_iter=200))\n",
    "])"
   ]
  },
  {
   "cell_type": "code",
   "execution_count": 13,
   "metadata": {},
   "outputs": [
    {
     "data": {
      "text/plain": [
       "Pipeline(steps=[('flatten_transformer', FlattenTransformer()),\n",
       "                ('standard_scaler', StandardScaler()),\n",
       "                ('logistic_reg',\n",
       "                 LogisticRegression(max_iter=200, random_state=100))])"
      ]
     },
     "execution_count": 13,
     "metadata": {},
     "output_type": "execute_result"
    }
   ],
   "source": [
    "lrg_pipeline.fit(X_train, y_train)"
   ]
  },
  {
   "cell_type": "code",
   "execution_count": 17,
   "metadata": {},
   "outputs": [
    {
     "name": "stdout",
     "output_type": "stream",
     "text": [
      "Accuracy: 0.8382\n"
     ]
    }
   ],
   "source": [
    "lrg_pred = lrg_pipeline.predict(X_test)\n",
    "print('Accuracy:', accuracy_score(y_test, lrg_pred))"
   ]
  },
  {
   "cell_type": "code",
   "execution_count": 19,
   "metadata": {},
   "outputs": [
    {
     "name": "stdout",
     "output_type": "stream",
     "text": [
      "Accuracy: 0.8817333333333334\n"
     ]
    }
   ],
   "source": [
    "lrg_pred_train = lrg_pipeline.predict(X_train)\n",
    "print('Accuracy:', accuracy_score(y_train, lrg_pred_train))"
   ]
  },
  {
   "cell_type": "code",
   "execution_count": 10,
   "metadata": {},
   "outputs": [],
   "source": [
    "hogger = HogTransformer(\n",
    "    pixels_per_cell=(4,4),\n",
    "    cells_per_block=(2,2),\n",
    "    orientations=9,\n",
    "    block_norm='L2-Hys'\n",
    ")\n",
    "\n",
    "lrg_hog_pipeline = Pipeline(steps=[\n",
    "    (\"hog_transform\", hogger),\n",
    "    #(\"flatten_transformer\", FlattenTransformer()),\n",
    "    (\"standard_scaler\", StandardScaler()),\n",
    "    (\"logistic_reg\", LogisticRegression(penalty='l2', random_state=100, solver='lbfgs', max_iter=200))\n",
    "])"
   ]
  },
  {
   "cell_type": "code",
   "execution_count": 23,
   "metadata": {},
   "outputs": [
    {
     "data": {
      "text/plain": [
       "Pipeline(steps=[('hog_transform',\n",
       "                 HogTransformer(cells_per_block=(2, 2),\n",
       "                                pixels_per_cell=(4, 4))),\n",
       "                ('standard_scaler', StandardScaler()),\n",
       "                ('logistic_reg',\n",
       "                 LogisticRegression(max_iter=200, random_state=100))])"
      ]
     },
     "execution_count": 23,
     "metadata": {},
     "output_type": "execute_result"
    }
   ],
   "source": [
    "lrg_hog_pipeline.fit(X_train, y_train)"
   ]
  },
  {
   "cell_type": "code",
   "execution_count": 24,
   "metadata": {},
   "outputs": [
    {
     "name": "stdout",
     "output_type": "stream",
     "text": [
      "Accuracy: 0.8772\n"
     ]
    }
   ],
   "source": [
    "lrg_hog_pred = lrg_hog_pipeline.predict(X_test)\n",
    "print('Accuracy:', accuracy_score(y_test, lrg_hog_pred))"
   ]
  },
  {
   "cell_type": "code",
   "execution_count": 25,
   "metadata": {},
   "outputs": [
    {
     "name": "stdout",
     "output_type": "stream",
     "text": [
      "Accuracy: 0.93165\n"
     ]
    }
   ],
   "source": [
    "lrg_hog_pred_train = lrg_hog_pipeline.predict(X_train)\n",
    "print('Accuracy:', accuracy_score(y_train, lrg_hog_pred_train))"
   ]
  },
  {
   "cell_type": "markdown",
   "metadata": {},
   "source": [
    "# SVM"
   ]
  },
  {
   "cell_type": "code",
   "execution_count": 18,
   "metadata": {},
   "outputs": [],
   "source": [
    "from sklearn.svm import SVC"
   ]
  },
  {
   "cell_type": "code",
   "execution_count": 19,
   "metadata": {},
   "outputs": [],
   "source": [
    "svc = SVC(C=10, kernel='rbf')\n",
    "\n",
    "svc_hog_pipeline = Pipeline(steps=[\n",
    "    (\"hog_transform\", hogger),\n",
    "    (\"standard_scaler\", StandardScaler()),\n",
    "    (\"svc\", svc)\n",
    "])"
   ]
  },
  {
   "cell_type": "markdown",
   "metadata": {},
   "source": [
    "**Warning**: Do not run this, averages 30 mins"
   ]
  },
  {
   "cell_type": "code",
   "execution_count": 20,
   "metadata": {},
   "outputs": [
    {
     "data": {
      "text/plain": [
       "Pipeline(steps=[('hog_transform',\n",
       "                 HogTransformer(cells_per_block=(2, 2),\n",
       "                                pixels_per_cell=(4, 4))),\n",
       "                ('standard_scaler', StandardScaler()), ('svc', SVC(C=10))])"
      ]
     },
     "execution_count": 20,
     "metadata": {},
     "output_type": "execute_result"
    }
   ],
   "source": [
    "svc_hog_pipeline.fit(X_train, y_train)"
   ]
  },
  {
   "cell_type": "code",
   "execution_count": 21,
   "metadata": {},
   "outputs": [
    {
     "name": "stdout",
     "output_type": "stream",
     "text": [
      "Accuracy: 0.9148\n"
     ]
    }
   ],
   "source": [
    "svc_hog_pred = svc_hog_pipeline.predict(X_test)\n",
    "print('Accuracy:', accuracy_score(y_test, svc_hog_pred))"
   ]
  },
  {
   "cell_type": "markdown",
   "metadata": {},
   "source": [
    "# Linear SVC"
   ]
  },
  {
   "cell_type": "code",
   "execution_count": 2,
   "metadata": {},
   "outputs": [],
   "source": [
    "from sklearn.svm import LinearSVC"
   ]
  },
  {
   "cell_type": "code",
   "execution_count": 12,
   "metadata": {},
   "outputs": [],
   "source": [
    "lsvc = LinearSVC(C=1, loss='hinge', multi_class='ovr', penalty='l2')\n",
    "\n",
    "\n",
    "lsvc_hog_pipeline = Pipeline(steps=[\n",
    "    (\"hog_transform\", hogger),\n",
    "    (\"standard_scaler\", StandardScaler()),\n",
    "    (\"svc\", lsvc)\n",
    "])"
   ]
  },
  {
   "cell_type": "code",
   "execution_count": 13,
   "metadata": {},
   "outputs": [
    {
     "data": {
      "text/plain": [
       "Pipeline(steps=[('hog_transform',\n",
       "                 HogTransformer(cells_per_block=(2, 2),\n",
       "                                pixels_per_cell=(4, 4))),\n",
       "                ('standard_scaler', StandardScaler()),\n",
       "                ('svc', LinearSVC(C=1, loss='hinge'))])"
      ]
     },
     "execution_count": 13,
     "metadata": {},
     "output_type": "execute_result"
    }
   ],
   "source": [
    "lsvc_hog_pipeline.fit(X_train, y_train)"
   ]
  },
  {
   "cell_type": "code",
   "execution_count": 14,
   "metadata": {},
   "outputs": [
    {
     "name": "stdout",
     "output_type": "stream",
     "text": [
      "Accuracy: 0.8735\n"
     ]
    }
   ],
   "source": [
    "lsvc_hog_pred = lsvc_hog_pipeline.predict(X_test)\n",
    "print('Accuracy:', accuracy_score(y_test, lsvc_hog_pred))"
   ]
  },
  {
   "cell_type": "markdown",
   "metadata": {},
   "source": [
    "## Different HOG func"
   ]
  },
  {
   "cell_type": "code",
   "execution_count": 15,
   "metadata": {},
   "outputs": [],
   "source": [
    "hogger2 = HogTransformer(\n",
    "    pixels_per_cell=(4,4),\n",
    "    cells_per_block=(3,3),\n",
    "    orientations=9,\n",
    "    block_norm='L2-Hys'\n",
    ")\n",
    "\n",
    "lsvc_hog2_pipeline = Pipeline(steps=[\n",
    "    (\"hog_transform\", hogger2),\n",
    "    (\"standard_scaler\", StandardScaler()),\n",
    "    (\"lsvc\", lsvc)\n",
    "])"
   ]
  },
  {
   "cell_type": "code",
   "execution_count": 16,
   "metadata": {},
   "outputs": [
    {
     "data": {
      "text/plain": [
       "Pipeline(steps=[('hog_transform', HogTransformer(pixels_per_cell=(4, 4))),\n",
       "                ('standard_scaler', StandardScaler()),\n",
       "                ('lsvc', LinearSVC(C=1, loss='hinge'))])"
      ]
     },
     "execution_count": 16,
     "metadata": {},
     "output_type": "execute_result"
    }
   ],
   "source": [
    "lsvc_hog2_pipeline.fit(X_train, y_train)"
   ]
  },
  {
   "cell_type": "code",
   "execution_count": 17,
   "metadata": {},
   "outputs": [
    {
     "name": "stdout",
     "output_type": "stream",
     "text": [
      "Accuracy: 0.8666\n"
     ]
    }
   ],
   "source": [
    "lsvc_hog2_pred = lsvc_hog2_pipeline.predict(X_test)\n",
    "print('Accuracy:', accuracy_score(y_test, lsvc_hog2_pred))"
   ]
  },
  {
   "cell_type": "markdown",
   "metadata": {},
   "source": [
    "# Pickle Errthing"
   ]
  },
  {
   "cell_type": "code",
   "execution_count": 23,
   "metadata": {},
   "outputs": [],
   "source": [
    "import pickle\n",
    "\n",
    "pickle.dump(svc_hog_pipeline, open('svc_hog_mnist.pkl', 'wb'))"
   ]
  },
  {
   "cell_type": "markdown",
   "metadata": {},
   "source": [
    "# XGBoost"
   ]
  },
  {
   "cell_type": "code",
   "execution_count": 39,
   "metadata": {},
   "outputs": [],
   "source": [
    "xgbc = xgb.XGBClassifier(objective=\"multi:softmax\",\n",
    "                                learning_rate=0.08,\n",
    "                                max_depth=6,\n",
    "                                subsample=0.8,\n",
    "                                colsample_bytree=0.8,\n",
    "                                reg_alpha=8,\n",
    "                                n_estimators=600,\n",
    "                                reg_lambda=2)\n",
    "\n",
    "prep_xgb_pipeline = Pipeline(steps=[\n",
    "    (\"hog_transform\", hogger),\n",
    "    (\"standard_scaler\", StandardScaler())\n",
    "])\n",
    "\n",
    "xgb_pipeline = Pipeline(steps=[\n",
    "    (\"hog_transform\", hogger),\n",
    "    (\"standard_scaler\", StandardScaler()),\n",
    "    (\"xgb\", xgbc)\n",
    "])"
   ]
  },
  {
   "cell_type": "code",
   "execution_count": 40,
   "metadata": {},
   "outputs": [],
   "source": [
    "X_train_s, X_test_s, y_train_s, y_test_s = train_test_split(X_train, y_train, test_size=0.1)"
   ]
  },
  {
   "cell_type": "code",
   "execution_count": 41,
   "metadata": {},
   "outputs": [],
   "source": [
    "X_test_s_prepped = prep_xgb_pipeline.fit_transform(X_test_s)\n",
    "X_train_s_prepped = prep_xgb_pipeline.fit_transform(X_train_s)"
   ]
  },
  {
   "cell_type": "code",
   "execution_count": 43,
   "metadata": {},
   "outputs": [
    {
     "name": "stdout",
     "output_type": "stream",
     "text": [
      "[0]\tvalidation_0-merror:0.18117\tvalidation_1-merror:0.25217\n",
      "Multiple eval metrics have been passed: 'validation_1-merror' will be used for early stopping.\n",
      "\n",
      "Will train until validation_1-merror hasn't improved in 50 rounds.\n",
      "[1]\tvalidation_0-merror:0.15720\tvalidation_1-merror:0.21450\n",
      "[2]\tvalidation_0-merror:0.14980\tvalidation_1-merror:0.20817\n",
      "[3]\tvalidation_0-merror:0.14526\tvalidation_1-merror:0.20200\n",
      "[4]\tvalidation_0-merror:0.13985\tvalidation_1-merror:0.19717\n",
      "[5]\tvalidation_0-merror:0.13622\tvalidation_1-merror:0.19633\n",
      "[6]\tvalidation_0-merror:0.13396\tvalidation_1-merror:0.19500\n",
      "[7]\tvalidation_0-merror:0.13198\tvalidation_1-merror:0.19233\n",
      "[8]\tvalidation_0-merror:0.13043\tvalidation_1-merror:0.19250\n",
      "[9]\tvalidation_0-merror:0.12859\tvalidation_1-merror:0.19167\n",
      "[10]\tvalidation_0-merror:0.12691\tvalidation_1-merror:0.19083\n",
      "[11]\tvalidation_0-merror:0.12526\tvalidation_1-merror:0.19050\n",
      "[12]\tvalidation_0-merror:0.12344\tvalidation_1-merror:0.18933\n",
      "[13]\tvalidation_0-merror:0.12230\tvalidation_1-merror:0.19033\n",
      "[14]\tvalidation_0-merror:0.12035\tvalidation_1-merror:0.19050\n",
      "[15]\tvalidation_0-merror:0.11965\tvalidation_1-merror:0.18833\n",
      "[16]\tvalidation_0-merror:0.11839\tvalidation_1-merror:0.18467\n",
      "[17]\tvalidation_0-merror:0.11737\tvalidation_1-merror:0.18150\n",
      "[18]\tvalidation_0-merror:0.11632\tvalidation_1-merror:0.18033\n",
      "[19]\tvalidation_0-merror:0.11561\tvalidation_1-merror:0.17833\n",
      "[20]\tvalidation_0-merror:0.11444\tvalidation_1-merror:0.17617\n",
      "[21]\tvalidation_0-merror:0.11368\tvalidation_1-merror:0.17433\n",
      "[22]\tvalidation_0-merror:0.11228\tvalidation_1-merror:0.17233\n",
      "[23]\tvalidation_0-merror:0.11144\tvalidation_1-merror:0.17183\n",
      "[24]\tvalidation_0-merror:0.11056\tvalidation_1-merror:0.16867\n",
      "[25]\tvalidation_0-merror:0.10944\tvalidation_1-merror:0.16683\n",
      "[26]\tvalidation_0-merror:0.10878\tvalidation_1-merror:0.16817\n",
      "[27]\tvalidation_0-merror:0.10741\tvalidation_1-merror:0.16700\n",
      "[28]\tvalidation_0-merror:0.10656\tvalidation_1-merror:0.16533\n",
      "[29]\tvalidation_0-merror:0.10593\tvalidation_1-merror:0.16417\n",
      "[30]\tvalidation_0-merror:0.10513\tvalidation_1-merror:0.16333\n",
      "[31]\tvalidation_0-merror:0.10432\tvalidation_1-merror:0.16267\n",
      "[32]\tvalidation_0-merror:0.10320\tvalidation_1-merror:0.16150\n",
      "[33]\tvalidation_0-merror:0.10226\tvalidation_1-merror:0.16083\n",
      "[34]\tvalidation_0-merror:0.10132\tvalidation_1-merror:0.16050\n",
      "[35]\tvalidation_0-merror:0.10054\tvalidation_1-merror:0.16000\n",
      "[36]\tvalidation_0-merror:0.09989\tvalidation_1-merror:0.15950\n",
      "[37]\tvalidation_0-merror:0.09907\tvalidation_1-merror:0.15867\n",
      "[38]\tvalidation_0-merror:0.09802\tvalidation_1-merror:0.15683\n",
      "[39]\tvalidation_0-merror:0.09718\tvalidation_1-merror:0.15583\n",
      "[40]\tvalidation_0-merror:0.09657\tvalidation_1-merror:0.15533\n",
      "[41]\tvalidation_0-merror:0.09574\tvalidation_1-merror:0.15450\n",
      "[42]\tvalidation_0-merror:0.09502\tvalidation_1-merror:0.15317\n",
      "[43]\tvalidation_0-merror:0.09411\tvalidation_1-merror:0.15217\n",
      "[44]\tvalidation_0-merror:0.09324\tvalidation_1-merror:0.15250\n",
      "[45]\tvalidation_0-merror:0.09233\tvalidation_1-merror:0.15167\n",
      "[46]\tvalidation_0-merror:0.09165\tvalidation_1-merror:0.15100\n",
      "[47]\tvalidation_0-merror:0.09082\tvalidation_1-merror:0.14933\n",
      "[48]\tvalidation_0-merror:0.09017\tvalidation_1-merror:0.14817\n",
      "[49]\tvalidation_0-merror:0.08906\tvalidation_1-merror:0.14733\n",
      "[50]\tvalidation_0-merror:0.08859\tvalidation_1-merror:0.14783\n",
      "[51]\tvalidation_0-merror:0.08763\tvalidation_1-merror:0.14800\n",
      "[52]\tvalidation_0-merror:0.08693\tvalidation_1-merror:0.14750\n",
      "[53]\tvalidation_0-merror:0.08618\tvalidation_1-merror:0.14683\n",
      "[54]\tvalidation_0-merror:0.08526\tvalidation_1-merror:0.14600\n",
      "[55]\tvalidation_0-merror:0.08443\tvalidation_1-merror:0.14617\n",
      "[56]\tvalidation_0-merror:0.08398\tvalidation_1-merror:0.14550\n",
      "[57]\tvalidation_0-merror:0.08318\tvalidation_1-merror:0.14500\n",
      "[58]\tvalidation_0-merror:0.08256\tvalidation_1-merror:0.14417\n",
      "[59]\tvalidation_0-merror:0.08181\tvalidation_1-merror:0.14400\n",
      "[60]\tvalidation_0-merror:0.08120\tvalidation_1-merror:0.14333\n",
      "[61]\tvalidation_0-merror:0.08028\tvalidation_1-merror:0.14383\n",
      "[62]\tvalidation_0-merror:0.07959\tvalidation_1-merror:0.14300\n",
      "[63]\tvalidation_0-merror:0.07913\tvalidation_1-merror:0.14267\n",
      "[64]\tvalidation_0-merror:0.07830\tvalidation_1-merror:0.14250\n",
      "[65]\tvalidation_0-merror:0.07794\tvalidation_1-merror:0.14167\n",
      "[66]\tvalidation_0-merror:0.07707\tvalidation_1-merror:0.14117\n",
      "[67]\tvalidation_0-merror:0.07648\tvalidation_1-merror:0.14100\n",
      "[68]\tvalidation_0-merror:0.07581\tvalidation_1-merror:0.14067\n",
      "[69]\tvalidation_0-merror:0.07543\tvalidation_1-merror:0.14017\n",
      "[70]\tvalidation_0-merror:0.07456\tvalidation_1-merror:0.14033\n",
      "[71]\tvalidation_0-merror:0.07370\tvalidation_1-merror:0.14017\n",
      "[72]\tvalidation_0-merror:0.07330\tvalidation_1-merror:0.13983\n",
      "[73]\tvalidation_0-merror:0.07272\tvalidation_1-merror:0.13933\n",
      "[74]\tvalidation_0-merror:0.07206\tvalidation_1-merror:0.13850\n",
      "[75]\tvalidation_0-merror:0.07163\tvalidation_1-merror:0.13917\n",
      "[76]\tvalidation_0-merror:0.07094\tvalidation_1-merror:0.13933\n",
      "[77]\tvalidation_0-merror:0.07020\tvalidation_1-merror:0.13883\n",
      "[78]\tvalidation_0-merror:0.06939\tvalidation_1-merror:0.13750\n",
      "[79]\tvalidation_0-merror:0.06898\tvalidation_1-merror:0.13800\n",
      "[80]\tvalidation_0-merror:0.06822\tvalidation_1-merror:0.13850\n",
      "[81]\tvalidation_0-merror:0.06748\tvalidation_1-merror:0.13850\n",
      "[82]\tvalidation_0-merror:0.06687\tvalidation_1-merror:0.13750\n",
      "[83]\tvalidation_0-merror:0.06648\tvalidation_1-merror:0.13733\n",
      "[84]\tvalidation_0-merror:0.06583\tvalidation_1-merror:0.13700\n",
      "[85]\tvalidation_0-merror:0.06537\tvalidation_1-merror:0.13667\n",
      "[86]\tvalidation_0-merror:0.06476\tvalidation_1-merror:0.13533\n",
      "[87]\tvalidation_0-merror:0.06404\tvalidation_1-merror:0.13517\n",
      "[88]\tvalidation_0-merror:0.06341\tvalidation_1-merror:0.13500\n",
      "[89]\tvalidation_0-merror:0.06285\tvalidation_1-merror:0.13467\n",
      "[90]\tvalidation_0-merror:0.06239\tvalidation_1-merror:0.13317\n",
      "[91]\tvalidation_0-merror:0.06183\tvalidation_1-merror:0.13217\n",
      "[92]\tvalidation_0-merror:0.06143\tvalidation_1-merror:0.13233\n",
      "[93]\tvalidation_0-merror:0.06094\tvalidation_1-merror:0.13233\n",
      "[94]\tvalidation_0-merror:0.06063\tvalidation_1-merror:0.13233\n",
      "[95]\tvalidation_0-merror:0.06009\tvalidation_1-merror:0.13167\n",
      "[96]\tvalidation_0-merror:0.05943\tvalidation_1-merror:0.13150\n",
      "[97]\tvalidation_0-merror:0.05872\tvalidation_1-merror:0.13133\n",
      "[98]\tvalidation_0-merror:0.05793\tvalidation_1-merror:0.13100\n",
      "[99]\tvalidation_0-merror:0.05765\tvalidation_1-merror:0.13133\n",
      "[100]\tvalidation_0-merror:0.05706\tvalidation_1-merror:0.13033\n",
      "[101]\tvalidation_0-merror:0.05665\tvalidation_1-merror:0.12967\n",
      "[102]\tvalidation_0-merror:0.05617\tvalidation_1-merror:0.12900\n",
      "[103]\tvalidation_0-merror:0.05559\tvalidation_1-merror:0.12933\n",
      "[104]\tvalidation_0-merror:0.05509\tvalidation_1-merror:0.12883\n",
      "[105]\tvalidation_0-merror:0.05474\tvalidation_1-merror:0.12950\n",
      "[106]\tvalidation_0-merror:0.05422\tvalidation_1-merror:0.12883\n",
      "[107]\tvalidation_0-merror:0.05363\tvalidation_1-merror:0.12867\n",
      "[108]\tvalidation_0-merror:0.05302\tvalidation_1-merror:0.12817\n",
      "[109]\tvalidation_0-merror:0.05272\tvalidation_1-merror:0.12817\n",
      "[110]\tvalidation_0-merror:0.05233\tvalidation_1-merror:0.12783\n",
      "[111]\tvalidation_0-merror:0.05159\tvalidation_1-merror:0.12833\n",
      "[112]\tvalidation_0-merror:0.05113\tvalidation_1-merror:0.12900\n",
      "[113]\tvalidation_0-merror:0.05076\tvalidation_1-merror:0.12883\n",
      "[114]\tvalidation_0-merror:0.05031\tvalidation_1-merror:0.12717\n",
      "[115]\tvalidation_0-merror:0.04981\tvalidation_1-merror:0.12600\n",
      "[116]\tvalidation_0-merror:0.04918\tvalidation_1-merror:0.12617\n",
      "[117]\tvalidation_0-merror:0.04870\tvalidation_1-merror:0.12583\n",
      "[118]\tvalidation_0-merror:0.04824\tvalidation_1-merror:0.12567\n",
      "[119]\tvalidation_0-merror:0.04778\tvalidation_1-merror:0.12500\n",
      "[120]\tvalidation_0-merror:0.04756\tvalidation_1-merror:0.12550\n",
      "[121]\tvalidation_0-merror:0.04694\tvalidation_1-merror:0.12583\n",
      "[122]\tvalidation_0-merror:0.04624\tvalidation_1-merror:0.12650\n",
      "[123]\tvalidation_0-merror:0.04567\tvalidation_1-merror:0.12617\n",
      "[124]\tvalidation_0-merror:0.04522\tvalidation_1-merror:0.12617\n",
      "[125]\tvalidation_0-merror:0.04482\tvalidation_1-merror:0.12567\n",
      "[126]\tvalidation_0-merror:0.04422\tvalidation_1-merror:0.12533\n",
      "[127]\tvalidation_0-merror:0.04383\tvalidation_1-merror:0.12467\n",
      "[128]\tvalidation_0-merror:0.04341\tvalidation_1-merror:0.12467\n",
      "[129]\tvalidation_0-merror:0.04278\tvalidation_1-merror:0.12467\n",
      "[130]\tvalidation_0-merror:0.04235\tvalidation_1-merror:0.12400\n",
      "[131]\tvalidation_0-merror:0.04200\tvalidation_1-merror:0.12383\n"
     ]
    },
    {
     "name": "stdout",
     "output_type": "stream",
     "text": [
      "[132]\tvalidation_0-merror:0.04181\tvalidation_1-merror:0.12383\n",
      "[133]\tvalidation_0-merror:0.04144\tvalidation_1-merror:0.12400\n",
      "[134]\tvalidation_0-merror:0.04091\tvalidation_1-merror:0.12450\n",
      "[135]\tvalidation_0-merror:0.04043\tvalidation_1-merror:0.12450\n",
      "[136]\tvalidation_0-merror:0.03983\tvalidation_1-merror:0.12367\n",
      "[137]\tvalidation_0-merror:0.03952\tvalidation_1-merror:0.12350\n",
      "[138]\tvalidation_0-merror:0.03920\tvalidation_1-merror:0.12450\n",
      "[139]\tvalidation_0-merror:0.03872\tvalidation_1-merror:0.12400\n",
      "[140]\tvalidation_0-merror:0.03850\tvalidation_1-merror:0.12367\n",
      "[141]\tvalidation_0-merror:0.03813\tvalidation_1-merror:0.12317\n",
      "[142]\tvalidation_0-merror:0.03778\tvalidation_1-merror:0.12317\n",
      "[143]\tvalidation_0-merror:0.03739\tvalidation_1-merror:0.12367\n",
      "[144]\tvalidation_0-merror:0.03700\tvalidation_1-merror:0.12317\n",
      "[145]\tvalidation_0-merror:0.03657\tvalidation_1-merror:0.12300\n",
      "[146]\tvalidation_0-merror:0.03633\tvalidation_1-merror:0.12283\n",
      "[147]\tvalidation_0-merror:0.03583\tvalidation_1-merror:0.12250\n",
      "[148]\tvalidation_0-merror:0.03550\tvalidation_1-merror:0.12267\n",
      "[149]\tvalidation_0-merror:0.03520\tvalidation_1-merror:0.12233\n",
      "[150]\tvalidation_0-merror:0.03500\tvalidation_1-merror:0.12267\n",
      "[151]\tvalidation_0-merror:0.03452\tvalidation_1-merror:0.12250\n",
      "[152]\tvalidation_0-merror:0.03415\tvalidation_1-merror:0.12267\n",
      "[153]\tvalidation_0-merror:0.03391\tvalidation_1-merror:0.12183\n",
      "[154]\tvalidation_0-merror:0.03343\tvalidation_1-merror:0.12233\n",
      "[155]\tvalidation_0-merror:0.03300\tvalidation_1-merror:0.12183\n",
      "[156]\tvalidation_0-merror:0.03278\tvalidation_1-merror:0.12133\n",
      "[157]\tvalidation_0-merror:0.03257\tvalidation_1-merror:0.12150\n",
      "[158]\tvalidation_0-merror:0.03228\tvalidation_1-merror:0.12217\n",
      "[159]\tvalidation_0-merror:0.03200\tvalidation_1-merror:0.12200\n",
      "[160]\tvalidation_0-merror:0.03159\tvalidation_1-merror:0.12167\n",
      "[161]\tvalidation_0-merror:0.03119\tvalidation_1-merror:0.12133\n",
      "[162]\tvalidation_0-merror:0.03069\tvalidation_1-merror:0.12050\n",
      "[163]\tvalidation_0-merror:0.03037\tvalidation_1-merror:0.12067\n",
      "[164]\tvalidation_0-merror:0.03000\tvalidation_1-merror:0.12067\n",
      "[165]\tvalidation_0-merror:0.02967\tvalidation_1-merror:0.12000\n",
      "[166]\tvalidation_0-merror:0.02946\tvalidation_1-merror:0.12033\n",
      "[167]\tvalidation_0-merror:0.02935\tvalidation_1-merror:0.12000\n",
      "[168]\tvalidation_0-merror:0.02896\tvalidation_1-merror:0.11950\n",
      "[169]\tvalidation_0-merror:0.02859\tvalidation_1-merror:0.11983\n",
      "[170]\tvalidation_0-merror:0.02841\tvalidation_1-merror:0.12000\n",
      "[171]\tvalidation_0-merror:0.02807\tvalidation_1-merror:0.12000\n",
      "[172]\tvalidation_0-merror:0.02765\tvalidation_1-merror:0.11983\n",
      "[173]\tvalidation_0-merror:0.02741\tvalidation_1-merror:0.11983\n",
      "[174]\tvalidation_0-merror:0.02709\tvalidation_1-merror:0.11967\n",
      "[175]\tvalidation_0-merror:0.02663\tvalidation_1-merror:0.11950\n",
      "[176]\tvalidation_0-merror:0.02643\tvalidation_1-merror:0.11950\n",
      "[177]\tvalidation_0-merror:0.02602\tvalidation_1-merror:0.11900\n",
      "[178]\tvalidation_0-merror:0.02561\tvalidation_1-merror:0.11883\n",
      "[179]\tvalidation_0-merror:0.02546\tvalidation_1-merror:0.11917\n",
      "[180]\tvalidation_0-merror:0.02517\tvalidation_1-merror:0.11967\n",
      "[181]\tvalidation_0-merror:0.02483\tvalidation_1-merror:0.11967\n",
      "[182]\tvalidation_0-merror:0.02456\tvalidation_1-merror:0.11933\n",
      "[183]\tvalidation_0-merror:0.02433\tvalidation_1-merror:0.11900\n",
      "[184]\tvalidation_0-merror:0.02385\tvalidation_1-merror:0.11900\n",
      "[185]\tvalidation_0-merror:0.02365\tvalidation_1-merror:0.11833\n",
      "[186]\tvalidation_0-merror:0.02328\tvalidation_1-merror:0.11867\n",
      "[187]\tvalidation_0-merror:0.02320\tvalidation_1-merror:0.11850\n",
      "[188]\tvalidation_0-merror:0.02296\tvalidation_1-merror:0.11817\n",
      "[189]\tvalidation_0-merror:0.02261\tvalidation_1-merror:0.11767\n",
      "[190]\tvalidation_0-merror:0.02243\tvalidation_1-merror:0.11717\n",
      "[191]\tvalidation_0-merror:0.02206\tvalidation_1-merror:0.11750\n",
      "[192]\tvalidation_0-merror:0.02174\tvalidation_1-merror:0.11767\n",
      "[193]\tvalidation_0-merror:0.02156\tvalidation_1-merror:0.11733\n",
      "[194]\tvalidation_0-merror:0.02135\tvalidation_1-merror:0.11717\n",
      "[195]\tvalidation_0-merror:0.02109\tvalidation_1-merror:0.11700\n",
      "[196]\tvalidation_0-merror:0.02078\tvalidation_1-merror:0.11667\n",
      "[197]\tvalidation_0-merror:0.02076\tvalidation_1-merror:0.11717\n",
      "[198]\tvalidation_0-merror:0.02067\tvalidation_1-merror:0.11633\n",
      "[199]\tvalidation_0-merror:0.02041\tvalidation_1-merror:0.11617\n",
      "[200]\tvalidation_0-merror:0.02024\tvalidation_1-merror:0.11617\n",
      "[201]\tvalidation_0-merror:0.02007\tvalidation_1-merror:0.11617\n",
      "[202]\tvalidation_0-merror:0.01981\tvalidation_1-merror:0.11600\n",
      "[203]\tvalidation_0-merror:0.01969\tvalidation_1-merror:0.11583\n",
      "[204]\tvalidation_0-merror:0.01957\tvalidation_1-merror:0.11583\n",
      "[205]\tvalidation_0-merror:0.01941\tvalidation_1-merror:0.11617\n",
      "[206]\tvalidation_0-merror:0.01922\tvalidation_1-merror:0.11617\n",
      "[207]\tvalidation_0-merror:0.01906\tvalidation_1-merror:0.11550\n",
      "[208]\tvalidation_0-merror:0.01881\tvalidation_1-merror:0.11583\n",
      "[209]\tvalidation_0-merror:0.01870\tvalidation_1-merror:0.11583\n",
      "[210]\tvalidation_0-merror:0.01854\tvalidation_1-merror:0.11600\n",
      "[211]\tvalidation_0-merror:0.01846\tvalidation_1-merror:0.11583\n",
      "[212]\tvalidation_0-merror:0.01818\tvalidation_1-merror:0.11550\n",
      "[213]\tvalidation_0-merror:0.01809\tvalidation_1-merror:0.11500\n",
      "[214]\tvalidation_0-merror:0.01791\tvalidation_1-merror:0.11483\n",
      "[215]\tvalidation_0-merror:0.01774\tvalidation_1-merror:0.11500\n",
      "[216]\tvalidation_0-merror:0.01748\tvalidation_1-merror:0.11500\n",
      "[217]\tvalidation_0-merror:0.01730\tvalidation_1-merror:0.11517\n",
      "[218]\tvalidation_0-merror:0.01715\tvalidation_1-merror:0.11467\n",
      "[219]\tvalidation_0-merror:0.01687\tvalidation_1-merror:0.11533\n",
      "[220]\tvalidation_0-merror:0.01678\tvalidation_1-merror:0.11500\n",
      "[221]\tvalidation_0-merror:0.01654\tvalidation_1-merror:0.11483\n",
      "[222]\tvalidation_0-merror:0.01635\tvalidation_1-merror:0.11517\n",
      "[223]\tvalidation_0-merror:0.01615\tvalidation_1-merror:0.11467\n",
      "[224]\tvalidation_0-merror:0.01593\tvalidation_1-merror:0.11467\n",
      "[225]\tvalidation_0-merror:0.01583\tvalidation_1-merror:0.11467\n",
      "[226]\tvalidation_0-merror:0.01572\tvalidation_1-merror:0.11483\n",
      "[227]\tvalidation_0-merror:0.01556\tvalidation_1-merror:0.11483\n",
      "[228]\tvalidation_0-merror:0.01546\tvalidation_1-merror:0.11450\n",
      "[229]\tvalidation_0-merror:0.01532\tvalidation_1-merror:0.11433\n",
      "[230]\tvalidation_0-merror:0.01522\tvalidation_1-merror:0.11433\n",
      "[231]\tvalidation_0-merror:0.01502\tvalidation_1-merror:0.11400\n",
      "[232]\tvalidation_0-merror:0.01487\tvalidation_1-merror:0.11433\n",
      "[233]\tvalidation_0-merror:0.01463\tvalidation_1-merror:0.11433\n",
      "[234]\tvalidation_0-merror:0.01457\tvalidation_1-merror:0.11483\n",
      "[235]\tvalidation_0-merror:0.01456\tvalidation_1-merror:0.11433\n",
      "[236]\tvalidation_0-merror:0.01439\tvalidation_1-merror:0.11417\n",
      "[237]\tvalidation_0-merror:0.01417\tvalidation_1-merror:0.11417\n",
      "[238]\tvalidation_0-merror:0.01418\tvalidation_1-merror:0.11433\n",
      "[239]\tvalidation_0-merror:0.01417\tvalidation_1-merror:0.11433\n",
      "[240]\tvalidation_0-merror:0.01396\tvalidation_1-merror:0.11433\n",
      "[241]\tvalidation_0-merror:0.01383\tvalidation_1-merror:0.11417\n",
      "[242]\tvalidation_0-merror:0.01374\tvalidation_1-merror:0.11450\n",
      "[243]\tvalidation_0-merror:0.01356\tvalidation_1-merror:0.11433\n",
      "[244]\tvalidation_0-merror:0.01341\tvalidation_1-merror:0.11417\n",
      "[245]\tvalidation_0-merror:0.01324\tvalidation_1-merror:0.11450\n",
      "[246]\tvalidation_0-merror:0.01311\tvalidation_1-merror:0.11400\n",
      "[247]\tvalidation_0-merror:0.01304\tvalidation_1-merror:0.11400\n",
      "[248]\tvalidation_0-merror:0.01282\tvalidation_1-merror:0.11317\n",
      "[249]\tvalidation_0-merror:0.01270\tvalidation_1-merror:0.11383\n",
      "[250]\tvalidation_0-merror:0.01259\tvalidation_1-merror:0.11350\n",
      "[251]\tvalidation_0-merror:0.01235\tvalidation_1-merror:0.11350\n",
      "[252]\tvalidation_0-merror:0.01228\tvalidation_1-merror:0.11383\n",
      "[253]\tvalidation_0-merror:0.01224\tvalidation_1-merror:0.11450\n",
      "[254]\tvalidation_0-merror:0.01206\tvalidation_1-merror:0.11433\n",
      "[255]\tvalidation_0-merror:0.01198\tvalidation_1-merror:0.11433\n",
      "[256]\tvalidation_0-merror:0.01180\tvalidation_1-merror:0.11383\n",
      "[257]\tvalidation_0-merror:0.01167\tvalidation_1-merror:0.11400\n",
      "[258]\tvalidation_0-merror:0.01161\tvalidation_1-merror:0.11367\n",
      "[259]\tvalidation_0-merror:0.01156\tvalidation_1-merror:0.11367\n",
      "[260]\tvalidation_0-merror:0.01135\tvalidation_1-merror:0.11333\n",
      "[261]\tvalidation_0-merror:0.01126\tvalidation_1-merror:0.11367\n",
      "[262]\tvalidation_0-merror:0.01111\tvalidation_1-merror:0.11350\n",
      "[263]\tvalidation_0-merror:0.01094\tvalidation_1-merror:0.11333\n",
      "[264]\tvalidation_0-merror:0.01080\tvalidation_1-merror:0.11400\n"
     ]
    },
    {
     "name": "stdout",
     "output_type": "stream",
     "text": [
      "[265]\tvalidation_0-merror:0.01072\tvalidation_1-merror:0.11400\n",
      "[266]\tvalidation_0-merror:0.01065\tvalidation_1-merror:0.11367\n",
      "[267]\tvalidation_0-merror:0.01052\tvalidation_1-merror:0.11367\n",
      "[268]\tvalidation_0-merror:0.01046\tvalidation_1-merror:0.11350\n",
      "[269]\tvalidation_0-merror:0.01028\tvalidation_1-merror:0.11250\n",
      "[270]\tvalidation_0-merror:0.01022\tvalidation_1-merror:0.11300\n",
      "[271]\tvalidation_0-merror:0.01017\tvalidation_1-merror:0.11283\n",
      "[272]\tvalidation_0-merror:0.00993\tvalidation_1-merror:0.11300\n",
      "[273]\tvalidation_0-merror:0.00978\tvalidation_1-merror:0.11317\n",
      "[274]\tvalidation_0-merror:0.00970\tvalidation_1-merror:0.11367\n",
      "[275]\tvalidation_0-merror:0.00967\tvalidation_1-merror:0.11350\n",
      "[276]\tvalidation_0-merror:0.00950\tvalidation_1-merror:0.11333\n",
      "[277]\tvalidation_0-merror:0.00944\tvalidation_1-merror:0.11350\n",
      "[278]\tvalidation_0-merror:0.00933\tvalidation_1-merror:0.11333\n",
      "[279]\tvalidation_0-merror:0.00924\tvalidation_1-merror:0.11317\n",
      "[280]\tvalidation_0-merror:0.00919\tvalidation_1-merror:0.11300\n",
      "[281]\tvalidation_0-merror:0.00902\tvalidation_1-merror:0.11283\n",
      "[282]\tvalidation_0-merror:0.00891\tvalidation_1-merror:0.11283\n",
      "[283]\tvalidation_0-merror:0.00885\tvalidation_1-merror:0.11267\n",
      "[284]\tvalidation_0-merror:0.00874\tvalidation_1-merror:0.11267\n",
      "[285]\tvalidation_0-merror:0.00863\tvalidation_1-merror:0.11283\n",
      "[286]\tvalidation_0-merror:0.00857\tvalidation_1-merror:0.11250\n",
      "[287]\tvalidation_0-merror:0.00857\tvalidation_1-merror:0.11283\n",
      "[288]\tvalidation_0-merror:0.00839\tvalidation_1-merror:0.11283\n",
      "[289]\tvalidation_0-merror:0.00841\tvalidation_1-merror:0.11250\n",
      "[290]\tvalidation_0-merror:0.00828\tvalidation_1-merror:0.11267\n",
      "[291]\tvalidation_0-merror:0.00822\tvalidation_1-merror:0.11300\n",
      "[292]\tvalidation_0-merror:0.00815\tvalidation_1-merror:0.11283\n",
      "[293]\tvalidation_0-merror:0.00802\tvalidation_1-merror:0.11317\n",
      "[294]\tvalidation_0-merror:0.00789\tvalidation_1-merror:0.11367\n",
      "[295]\tvalidation_0-merror:0.00783\tvalidation_1-merror:0.11333\n",
      "[296]\tvalidation_0-merror:0.00787\tvalidation_1-merror:0.11317\n",
      "[297]\tvalidation_0-merror:0.00782\tvalidation_1-merror:0.11283\n",
      "[298]\tvalidation_0-merror:0.00774\tvalidation_1-merror:0.11267\n",
      "[299]\tvalidation_0-merror:0.00774\tvalidation_1-merror:0.11250\n",
      "[300]\tvalidation_0-merror:0.00767\tvalidation_1-merror:0.11267\n",
      "[301]\tvalidation_0-merror:0.00754\tvalidation_1-merror:0.11283\n",
      "[302]\tvalidation_0-merror:0.00754\tvalidation_1-merror:0.11283\n",
      "[303]\tvalidation_0-merror:0.00744\tvalidation_1-merror:0.11300\n",
      "[304]\tvalidation_0-merror:0.00735\tvalidation_1-merror:0.11350\n",
      "[305]\tvalidation_0-merror:0.00720\tvalidation_1-merror:0.11350\n",
      "[306]\tvalidation_0-merror:0.00719\tvalidation_1-merror:0.11350\n",
      "[307]\tvalidation_0-merror:0.00715\tvalidation_1-merror:0.11267\n",
      "[308]\tvalidation_0-merror:0.00707\tvalidation_1-merror:0.11283\n",
      "[309]\tvalidation_0-merror:0.00706\tvalidation_1-merror:0.11350\n",
      "[310]\tvalidation_0-merror:0.00694\tvalidation_1-merror:0.11350\n",
      "[311]\tvalidation_0-merror:0.00693\tvalidation_1-merror:0.11300\n",
      "[312]\tvalidation_0-merror:0.00683\tvalidation_1-merror:0.11300\n",
      "[313]\tvalidation_0-merror:0.00678\tvalidation_1-merror:0.11283\n",
      "[314]\tvalidation_0-merror:0.00674\tvalidation_1-merror:0.11300\n",
      "[315]\tvalidation_0-merror:0.00674\tvalidation_1-merror:0.11350\n",
      "[316]\tvalidation_0-merror:0.00672\tvalidation_1-merror:0.11383\n",
      "[317]\tvalidation_0-merror:0.00665\tvalidation_1-merror:0.11367\n",
      "[318]\tvalidation_0-merror:0.00654\tvalidation_1-merror:0.11367\n",
      "[319]\tvalidation_0-merror:0.00656\tvalidation_1-merror:0.11300\n",
      "Stopping. Best iteration:\n",
      "[269]\tvalidation_0-merror:0.01028\tvalidation_1-merror:0.11250\n",
      "\n"
     ]
    },
    {
     "data": {
      "text/plain": [
       "Pipeline(steps=[('hog_transform',\n",
       "                 HogTransformer(cells_per_block=(2, 2),\n",
       "                                pixels_per_cell=(4, 4))),\n",
       "                ('standard_scaler', StandardScaler()),\n",
       "                ('xgb',\n",
       "                 XGBClassifier(base_score=0.5, booster='gbtree',\n",
       "                               colsample_bylevel=1, colsample_bynode=1,\n",
       "                               colsample_bytree=0.8, gamma=0, gpu_id=-1,\n",
       "                               importance_type='gain',\n",
       "                               interaction_constraints='', learning_rate=0.08,\n",
       "                               max_delta_step=0, max_depth=6,\n",
       "                               min_child_weight=1, missing=nan,\n",
       "                               monotone_constraints='()', n_estimators=600,\n",
       "                               n_jobs=0, num_parallel_tree=1,\n",
       "                               objective='multi:softprob', random_state=0,\n",
       "                               reg_alpha=8, reg_lambda=2, scale_pos_weight=None,\n",
       "                               subsample=0.8, tree_method='exact',\n",
       "                               validate_parameters=1, verbosity=None))])"
      ]
     },
     "execution_count": 43,
     "metadata": {},
     "output_type": "execute_result"
    }
   ],
   "source": [
    "eval_set = [(X_train_s_prepped, y_train_s), (X_test_s_prepped, y_test_s)]\n",
    "xgb_pipeline.fit(X_train_s, y_train_s, xgb__eval_metric=\"merror\", xgb__eval_set=eval_set, xgb__early_stopping_rounds=50, xgb__verbose=True)"
   ]
  },
  {
   "cell_type": "code",
   "execution_count": 45,
   "metadata": {},
   "outputs": [
    {
     "name": "stdout",
     "output_type": "stream",
     "text": [
      "Accuracy: 0.899\n"
     ]
    }
   ],
   "source": [
    "xgb_pred = xgb_pipeline.predict(X_test)\n",
    "print('Accuracy:', accuracy_score(y_test, xgb_pred))"
   ]
  },
  {
   "cell_type": "code",
   "execution_count": 46,
   "metadata": {},
   "outputs": [],
   "source": [
    "pickle.dump(xgb_pipeline, open('xgb_pipeline.pkl', 'wb'))"
   ]
  },
  {
   "cell_type": "code",
   "execution_count": null,
   "metadata": {},
   "outputs": [],
   "source": []
  }
 ],
 "metadata": {
  "kernelspec": {
   "display_name": "Python 3",
   "language": "python",
   "name": "python3"
  },
  "language_info": {
   "codemirror_mode": {
    "name": "ipython",
    "version": 3
   },
   "file_extension": ".py",
   "mimetype": "text/x-python",
   "name": "python",
   "nbconvert_exporter": "python",
   "pygments_lexer": "ipython3",
   "version": "3.7.8"
  }
 },
 "nbformat": 4,
 "nbformat_minor": 4
}
