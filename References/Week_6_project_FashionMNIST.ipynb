{
 "cells": [
  {
   "cell_type": "markdown",
   "metadata": {
    "colab_type": "text",
    "id": "cMAAQi6MWmQO"
   },
   "source": [
    "# Fashion MNIST"
   ]
  },
  {
   "cell_type": "markdown",
   "metadata": {
    "colab_type": "text",
    "id": "O9yM2ZZ3Wo4s"
   },
   "source": [
    "[Fashion-MNIST](https://github.com/zalandoresearch/fashion-mnist) can be used as drop-in replacement for the original MNIST dataset (10 categories of handwritten digits). It shares the same image size (28x28) and structure of training (60,000) and testing (10,000) splits. The class labels are:\n",
    "\n",
    "| Label|\tDescription|\n",
    "|-|-|\n",
    "|0|\tT-shirt/top|\n",
    "|1|\tTrouser|\n",
    "|2|\tPullover|\n",
    "|3|\tDress|\n",
    "|4|\tCoat|\n",
    "|5|\tSandal|\n",
    "|6|\tShirt|\n",
    "|7|\tSneaker|\n",
    "|8|\tBag|\n",
    "|9|\tAnkle boot|\n",
    "\n",
    "**Example**\n",
    "\n",
    "<img src=\"https://github.com/zalandoresearch/fashion-mnist/raw/master/doc/img/fashion-mnist-sprite.png\" width=\"50%\"/>"
   ]
  },
  {
   "cell_type": "markdown",
   "metadata": {
    "colab_type": "text",
    "id": "6f-IZS9EXsz3"
   },
   "source": [
    "In this notebook, you need to train a classical ML model (no deep learning) to reach the highest accruracy score. Please follow the ML project checklist and make sure you organize your code well.\n",
    "\n",
    "**Expected Accuracy Score: >89%**\n",
    "\n",
    "**Submission:** share your notebook to instructors, and prepare your presentation on the next Monday morning. \n",
    "\n",
    "**Make sure you upload your notebook here:** https://drive.google.com/drive/folders/1y4LzAvd1101kJ6kO5UkF--58Nw412eTw?usp=sharing\n",
    "\n",
    "**Make sure to upload the pickle file of your pipeline to the google drive folder here so we can test everyone's pipeline with our hidden test set:**  https://drive.google.com/drive/folders/17d7nooRwE8NVIh2Vzz3jjcwSGQ0Iiol2?usp=sharing\n",
    "\n",
    "**Extra optional requirements**:\n",
    "- Tuning your hyperparameters with both RandomSearch and GridSearch\n",
    "- Confusion Matrix\n",
    "- Plot the images that the model predicts incorrectly\n",
    "- Use confusion matrix and images plotted incorrectly to do error analysis"
   ]
  },
  {
   "cell_type": "markdown",
   "metadata": {
    "colab_type": "text",
    "id": "wjwWygY2Yb5O"
   },
   "source": [
    "## Sample code to get fashion MNIST data"
   ]
  },
  {
   "cell_type": "code",
   "execution_count": 1,
   "metadata": {
    "colab": {
     "base_uri": "https://localhost:8080/",
     "height": 50
    },
    "colab_type": "code",
    "executionInfo": {
     "elapsed": 679,
     "status": "ok",
     "timestamp": 1599299610414,
     "user": {
      "displayName": "Tom Huynh",
      "photoUrl": "https://lh3.googleusercontent.com/a-/AOh14Gio80Z6G2E3hd2cDFHoMoXQp59SPCIxtjC58Pyt=s64",
      "userId": "07622869006304956004"
     },
     "user_tz": -420
    },
    "id": "8M6UtIsNYHD-",
    "outputId": "7571ac87-c8d2-454f-b65f-d745204740d4"
   },
   "outputs": [],
   "source": [
    "import numpy as np\n",
    "import pandas as pd\n",
    "import seaborn as sns\n",
    "import matplotlib.pyplot as plt\n",
    "%matplotlib inline\n",
    "\n",
    "import warnings\n",
    "warnings.filterwarnings('ignore')\n",
    "\n",
    "sns.set_style(\"whitegrid\")"
   ]
  },
  {
   "cell_type": "code",
   "execution_count": 37,
   "metadata": {
    "colab": {
     "base_uri": "https://localhost:8080/",
     "height": 185
    },
    "colab_type": "code",
    "executionInfo": {
     "elapsed": 2764,
     "status": "ok",
     "timestamp": 1599299613616,
     "user": {
      "displayName": "Tom Huynh",
      "photoUrl": "https://lh3.googleusercontent.com/a-/AOh14Gio80Z6G2E3hd2cDFHoMoXQp59SPCIxtjC58Pyt=s64",
      "userId": "07622869006304956004"
     },
     "user_tz": -420
    },
    "id": "pP-beUnqWlFk",
    "outputId": "ed588f13-2084-469e-db05-fd5960fde528"
   },
   "outputs": [
    {
     "name": "stdout",
     "output_type": "stream",
     "text": [
      "Training data: (60000, 28, 28) (60000,)\n",
      "Test data: (10000, 28, 28) (10000,)\n"
     ]
    }
   ],
   "source": [
    "from tensorflow.keras.datasets import fashion_mnist\n",
    "\n",
    "(X_train, y_train), (X_test, y_test) = fashion_mnist.load_data()\n",
    "\n",
    "print('Training data:', X_train.shape, y_train.shape)\n",
    "print('Test data:', X_test.shape, y_test.shape)"
   ]
  },
  {
   "cell_type": "markdown",
   "metadata": {
    "colab_type": "text",
    "id": "BsnfeeTtksF4"
   },
   "source": [
    "# Sample code to display images"
   ]
  },
  {
   "cell_type": "code",
   "execution_count": 38,
   "metadata": {
    "colab": {
     "base_uri": "https://localhost:8080/",
     "height": 282
    },
    "colab_type": "code",
    "executionInfo": {
     "elapsed": 799,
     "status": "ok",
     "timestamp": 1599299613935,
     "user": {
      "displayName": "Tom Huynh",
      "photoUrl": "https://lh3.googleusercontent.com/a-/AOh14Gio80Z6G2E3hd2cDFHoMoXQp59SPCIxtjC58Pyt=s64",
      "userId": "07622869006304956004"
     },
     "user_tz": -420
    },
    "id": "hXAKlJPflbqF",
    "outputId": "b01bda19-bc60-48d5-fd20-9827238522f8"
   },
   "outputs": [
    {
     "data": {
      "text/plain": [
       "<matplotlib.image.AxesImage at 0x1526fef90>"
      ]
     },
     "execution_count": 38,
     "metadata": {},
     "output_type": "execute_result"
    },
    {
     "data": {
      "image/png": "[encoded data removed]",
      "text/plain": [
       "<Figure size 432x288 with 1 Axes>"
      ]
     },
     "metadata": {},
     "output_type": "display_data"
    }
   ],
   "source": [
    "plt.imshow(X_train[3], cmap='gray')"
   ]
  },
  {
   "cell_type": "code",
   "execution_count": 39,
   "metadata": {
    "colab": {},
    "colab_type": "code",
    "executionInfo": {
     "elapsed": 955,
     "status": "ok",
     "timestamp": 1599299617876,
     "user": {
      "displayName": "Tom Huynh",
      "photoUrl": "https://lh3.googleusercontent.com/a-/AOh14Gio80Z6G2E3hd2cDFHoMoXQp59SPCIxtjC58Pyt=s64",
      "userId": "07622869006304956004"
     },
     "user_tz": -420
    },
    "id": "3M3CRemzYlIO"
   },
   "outputs": [],
   "source": [
    "def plot_images(images, labels):\n",
    "  '''Plot images with their labels. Ten each row'''\n",
    "  plt.figure(figsize=(20,20))\n",
    "  columns = 10\n",
    "  for i, image in enumerate(images):\n",
    "    ax = plt.subplot(len(images) / columns + 1, columns, i + 1)\n",
    "    ax.set_title(f\"{labels[i]}\", fontsize=16)\n",
    "    plt.axis('off')\n",
    "    plt.subplots_adjust(bottom=0.1)\n",
    "    plt.imshow(image, cmap='gray')"
   ]
  },
  {
   "cell_type": "code",
   "execution_count": 40,
   "metadata": {
    "colab": {},
    "colab_type": "code",
    "executionInfo": {
     "elapsed": 862,
     "status": "ok",
     "timestamp": 1599299618742,
     "user": {
      "displayName": "Tom Huynh",
      "photoUrl": "https://lh3.googleusercontent.com/a-/AOh14Gio80Z6G2E3hd2cDFHoMoXQp59SPCIxtjC58Pyt=s64",
      "userId": "07622869006304956004"
     },
     "user_tz": -420
    },
    "id": "iV9RVInjniSP"
   },
   "outputs": [],
   "source": [
    "def get_samples(n_samples, X, y):\n",
    "  '''Get n_samples randomly'''\n",
    "  samples_index = np.random.choice(np.arange(len(y)), n_samples, replace=False)\n",
    "  return X[samples_index], y[samples_index]"
   ]
  },
  {
   "cell_type": "code",
   "execution_count": 41,
   "metadata": {
    "colab": {
     "base_uri": "https://localhost:8080/",
     "height": 729
    },
    "colab_type": "code",
    "executionInfo": {
     "elapsed": 4572,
     "status": "ok",
     "timestamp": 1599299622815,
     "user": {
      "displayName": "Tom Huynh",
      "photoUrl": "https://lh3.googleusercontent.com/a-/AOh14Gio80Z6G2E3hd2cDFHoMoXQp59SPCIxtjC58Pyt=s64",
      "userId": "07622869006304956004"
     },
     "user_tz": -420
    },
    "id": "OpFatVaAqTxI",
    "outputId": "48d319fe-fdbb-4115-e84c-a6710a7a27d2"
   },
   "outputs": [
    {
     "data": {
      "image/png": "[encoded data removed]",
      "text/plain": [
       "<Figure size 1440x1440 with 10 Axes>"
      ]
     },
     "metadata": {},
     "output_type": "display_data"
    }
   ],
   "source": [
    "images, labels = get_samples(10, X_train, y_train)\n",
    "plot_images(images, labels)"
   ]
  },
  {
   "cell_type": "markdown",
   "metadata": {
    "colab_type": "text",
    "id": "NKaA6iC5p8rZ"
   },
   "source": [
    "## Your Code "
   ]
  },
  {
   "cell_type": "markdown",
   "metadata": {
    "colab_type": "text",
    "id": "0kSXhteLsDnw"
   },
   "source": [
    "These are numpy arrays:\n",
    "- X_train \n",
    "- y_train \n",
    "- X_test \n",
    "- y_test"
   ]
  },
  {
   "cell_type": "markdown",
   "metadata": {},
   "source": [
    "## **Plotting distribution**"
   ]
  },
  {
   "cell_type": "code",
   "execution_count": 7,
   "metadata": {
    "colab": {},
    "colab_type": "code",
    "id": "J-Gctf2Btm3V"
   },
   "outputs": [
    {
     "data": {
      "text/plain": [
       "<AxesSubplot:ylabel='count'>"
      ]
     },
     "execution_count": 7,
     "metadata": {},
     "output_type": "execute_result"
    },
    {
     "data": {
      "image/png": "[encoded data removed]",
      "text/plain": [
       "<Figure size 432x288 with 1 Axes>"
      ]
     },
     "metadata": {},
     "output_type": "display_data"
    }
   ],
   "source": [
    "sns.countplot(y_train)"
   ]
  },
  {
   "cell_type": "code",
   "execution_count": 33,
   "metadata": {},
   "outputs": [
    {
     "data": {
      "text/plain": [
       "<AxesSubplot:ylabel='count'>"
      ]
     },
     "execution_count": 33,
     "metadata": {},
     "output_type": "execute_result"
    },
    {
     "data": {
      "image/png": "[encoded data removed]",
      "text/plain": [
       "<Figure size 432x288 with 1 Axes>"
      ]
     },
     "metadata": {},
     "output_type": "display_data"
    }
   ],
   "source": [
    "sns.countplot(y_test)"
   ]
  },
  {
   "cell_type": "markdown",
   "metadata": {},
   "source": [
    "## **Transform data for training**\n"
   ]
  },
  {
   "cell_type": "code",
   "execution_count": 66,
   "metadata": {},
   "outputs": [],
   "source": [
    "# n_samples = 2000\n",
    "# n_test_samples = 400\n",
    "# # Your code here\n",
    "# X_train_flat, y_train_flat = get_samples(n_samples, X_train, y_train)\n",
    "# X_test_flat, y_test_flat = get_samples(n_test_samples, X_test, y_test)\n",
    "\n",
    "# # Normalization\n",
    "# X_train_flat = X_train_flat.reshape((n_samples, -1))/255\n",
    "# X_test_flat = X_test_flat.reshape((n_test_samples, -1))/255"
   ]
  },
  {
   "cell_type": "code",
   "execution_count": 20,
   "metadata": {},
   "outputs": [
    {
     "data": {
      "text/plain": [
       "array([-0.00864371, -0.02322333, -0.03917806, -0.04132172, -0.05764575,\n",
       "        0.10043738, -0.09887845, -0.15665258, -0.23908034, -0.37782705,\n",
       "        0.1392615 ,  2.1474988 ,  0.7416029 ,  0.04606764, -0.03740188,\n",
       "       -0.15683454,  0.52153313,  2.0264642 ,  2.0640078 ,  0.17186363,\n",
       "       -0.20335123, -0.14022098, -0.10981155, -0.09222425, -0.06827667,\n",
       "       -0.05051678, -0.0332743 , -0.01362235, -0.01257211, -0.0178614 ,\n",
       "       -0.03304932,  0.09771095, -0.07809374, -0.13108967, -0.24379931,\n",
       "        0.6530119 ,  1.5830815 ,  2.0193987 ,  1.4263232 ,  1.2800208 ,\n",
       "        1.1863587 ,  1.399198  ,  1.4265845 ,  1.353589  ,  1.4228287 ,\n",
       "        1.2979614 ,  1.558499  ,  2.7510352 ,  3.4552336 ,  3.3963387 ,\n",
       "        1.2998682 , -0.14894699, -0.11854527, -0.09005845, -0.05847776,\n",
       "       -0.02894636, -0.01552501, -0.02550164, -0.04603359, -0.07369479,\n",
       "       -0.12885574,  0.1279926 ,  2.6786962 ,  2.6927507 ,  2.2121534 ,\n",
       "        1.6200788 ,  1.1553589 ,  1.023166  ,  0.9462057 ,  0.95677596,\n",
       "        1.0986078 ,  0.99046695,  1.0310827 ,  1.0825242 ,  1.2140476 ,\n",
       "        1.6176453 ,  2.1397707 ,  2.728008  ,  3.921005  ,  4.2718067 ,\n",
       "       -0.16990355, -0.12987353, -0.08776806, -0.05104194, -0.02528823,\n",
       "       -0.04090184, -0.06615758, -0.10373972, -0.21458636,  3.1950662 ,\n",
       "        2.6791267 ,  1.9445486 ,  1.5617273 ,  1.3061296 ,  1.0468833 ,\n",
       "        1.0394642 ,  1.001542  ,  0.99704784,  0.9330826 ,  0.96204144,\n",
       "        0.9898911 ,  1.0392065 ,  1.0760138 ,  1.3234657 ,  1.6253183 ,\n",
       "        1.9832305 ,  2.4732583 ,  4.0698714 ,  0.8706091 , -0.17250812,\n",
       "       -0.11909081, -0.07178061, -0.0387036 , -0.06236771, -0.09134164,\n",
       "       -0.14997281,  0.98907024,  3.0462453 ,  1.965734  ,  1.6903768 ,\n",
       "        1.4817141 ,  1.35711   ,  1.4668463 ,  1.5832396 ,  1.5674516 ,\n",
       "        1.4809747 ,  1.5010406 ,  1.4738567 ,  1.5095757 ,  1.5861042 ,\n",
       "        1.5661074 ,  1.5967345 ,  1.4810121 ,  1.6475348 ,  2.056304  ,\n",
       "        3.1251342 ,  2.661447  , -0.22820272, -0.1631947 , -0.0977817 ,\n",
       "       -0.05277385, -0.08553474, -0.12320565, -0.19988409,  1.9935186 ,\n",
       "        2.6802442 ,  1.8143067 ,  1.5802695 ,  1.4495285 ,  1.2197928 ,\n",
       "       -0.0160353 , -0.30759674, -0.6205873 , -0.36647686, -0.6763337 ,\n",
       "       -0.67985153, -0.7683907 , -0.70967484, -0.5427409 ,  0.13319921,\n",
       "        1.5170043 ,  1.4447471 ,  1.7683073 ,  2.5453517 ,  3.481633  ,\n",
       "       -0.29583094, -0.21582074, -0.12499384, -0.06747663, -0.10782709,\n",
       "       -0.15469901, -0.24553004,  3.092871  ,  2.341717  ,  1.7051839 ,\n",
       "        1.4661953 ,  1.4785142 ,  1.154974  , -1.1290007 , -0.37994516,\n",
       "       -0.08069667, -1.195786  , -0.11618303, -0.6417195 , -0.58637303,\n",
       "       -0.5646138 , -0.7765113 , -1.2191981 ,  1.375505  ,  1.3449078 ,\n",
       "        1.6494745 ,  2.075304  ,  3.2807546 ,  0.33086118, -0.2615252 ,\n",
       "       -0.14734593, -0.08522363, -0.13066469, -0.1845569 , -0.28514856,\n",
       "        3.496287  ,  2.1039703 ,  1.6319402 ,  1.4474319 ,  1.4289153 ,\n",
       "        1.3044674 , -1.14641   ,  1.6461267 ,  1.5018198 ,  0.3079827 ,\n",
       "        1.560318  ,  0.5843847 ,  1.4724201 ,  1.5324405 ,  0.96640223,\n",
       "       -1.2981793 ,  1.2299103 ,  1.3399835 ,  1.4928342 ,  1.8178867 ,\n",
       "        2.4619741 ,  1.0813786 , -0.30379662, -0.16430184, -0.0964996 ,\n",
       "       -0.1496046 , -0.21081783,  0.63674057,  2.9363596 ,  1.9361775 ,\n",
       "        1.5882231 ,  1.4128189 ,  1.4658849 ,  1.1958108 , -1.1596034 ,\n",
       "       -0.73613507, -0.8354106 , -0.6075951 , -1.1657884 , -1.3175217 ,\n",
       "       -1.5037584 , -1.5079337 , -0.6827124 , -1.3631346 ,  0.8474183 ,\n",
       "        1.2185535 ,  1.3469671 ,  1.6125301 ,  2.1025016 ,  1.7464211 ,\n",
       "       -0.3472551 , -0.18639255, -0.1064871 , -0.16643   , -0.22885509,\n",
       "        2.9398384 ,  2.9180956 ,  1.8480762 ,  1.5106047 ,  1.4153177 ,\n",
       "        1.333567  ,  1.1388457 , -0.60758686, -0.44350216, -0.27957058,\n",
       "       -0.28372025, -0.45757312, -0.77785593, -0.9833662 , -0.88296676,\n",
       "       -0.5011509 , -0.41044733,  0.96015847,  1.0570346 ,  1.36923   ,\n",
       "        1.5631653 ,  1.9976543 ,  2.1879625 , -0.39767578, -0.21485072,\n",
       "       -0.11664948, -0.1799232 , -0.23713154,  1.7395403 ,  2.174     ,\n",
       "        1.9102061 ,  1.7886056 ,  1.7009212 ,  1.2630802 ,  1.0899395 ,\n",
       "        1.563235  ,  1.5275977 ,  1.4468758 ,  1.4193561 ,  1.4635639 ,\n",
       "        1.3606372 ,  1.4130669 ,  1.381853  ,  1.4085875 ,  1.308165  ,\n",
       "        0.8736224 ,  1.0786381 ,  1.3495082 ,  1.4958332 ,  1.5569123 ,\n",
       "        0.7752817 , -0.45419207, -0.24107042, -0.13007544, -0.19216758,\n",
       "       -0.2383067 , -0.3353104 , -0.49930334, -0.47979018, -0.18578108,\n",
       "        0.79012537,  1.3735217 ,  1.008885  ,  1.0259285 ,  0.79285187,\n",
       "        0.76985085,  0.8196489 ,  0.8326093 ,  0.6571638 ,  0.6613847 ,\n",
       "        0.6791373 ,  0.7469135 ,  0.7530352 ,  0.9385189 ,  0.5490225 ,\n",
       "       -1.1000907 , -0.9365226 , -0.7521111 , -0.6532385 , -0.50652295,\n",
       "       -0.26971895, -0.14427641, -0.20364964, -0.24589361, -0.33860284,\n",
       "       -0.50433934, -0.67324007, -0.7755361 , -0.39069414,  1.3895319 ,\n",
       "        0.9231072 ,  1.0081382 ,  0.85123384,  0.8330384 ,  0.8463889 ,\n",
       "        0.8552421 ,  0.7125927 ,  0.7225815 ,  0.69609714,  0.8262123 ,\n",
       "        0.7339159 ,  0.9848347 , -0.12144326, -1.1448439 , -0.9744867 ,\n",
       "       -0.7740772 , -0.6686667 , -0.5442604 , -0.3031525 , -0.15285127,\n",
       "       -0.21858798, -0.2639084 , -0.3601605 , -0.52329123, -0.64308935,\n",
       "       -0.82695645, -0.46195573,  1.2022169 ,  0.88609457,  0.947998  ,\n",
       "        0.8054057 ,  0.7964651 ,  0.824558  ,  0.8326705 ,  0.70431405,\n",
       "        0.70461905,  0.6845449 ,  0.81143075,  0.7705428 ,  0.98708546,\n",
       "       -0.3102184 , -1.1596065 , -0.96459866, -0.77658504, -0.6762639 ,\n",
       "       -0.56981605, -0.3348384 , -0.18233383, -0.27265713, -0.32529277,\n",
       "       -0.42629758, -0.6156753 , -0.7841682 , -0.89830476, -0.8836415 ,\n",
       "        1.0285861 ,  0.8916701 ,  0.8287764 ,  0.75406486,  0.75069207,\n",
       "        0.8206351 ,  0.8212905 ,  0.7046935 ,  0.7043172 ,  0.6779303 ,\n",
       "        0.7023619 ,  0.8414705 ,  1.0208412 , -0.4515509 , -1.1612086 ,\n",
       "       -0.9570897 , -0.801956  , -0.68451816, -0.5946407 , -0.36438474,\n",
       "       -0.24963437, -0.35367617, -0.3985183 , -0.49565208, -0.6896945 ,\n",
       "       -0.8230084 , -0.9424185 , -1.0140494 ,  0.9443679 ,  0.8222215 ,\n",
       "        0.7324591 ,  0.75019795,  0.73861307,  0.7890602 ,  0.8166626 ,\n",
       "        0.71118784,  0.71535784,  0.6914244 ,  0.59646106,  0.87953234,\n",
       "        1.0496602 , -0.48619732, -1.1668662 , -0.9745379 , -0.82477564,\n",
       "       -0.698316  , -0.61644167, -0.3905102 , -0.31045198, -0.40313977,\n",
       "       -0.4465666 , -0.54777664, -0.7473785 , -0.88221693, -0.991547  ,\n",
       "       -1.086821  ,  0.8665306 ,  0.748627  ,  0.6771385 ,  0.7437982 ,\n",
       "        0.72921866,  0.75215805,  0.8129638 ,  0.7152911 ,  0.7137209 ,\n",
       "        0.7098406 ,  0.5737501 ,  0.8459036 ,  1.0981634 , -0.49000308,\n",
       "       -1.1605189 , -0.9953248 , -0.8425729 , -0.7085525 , -0.6263425 ,\n",
       "       -0.41046363, -0.32255936, -0.43281204, -0.4862634 , -0.5914812 ,\n",
       "       -0.79334193, -0.9168878 , -1.0255442 , -1.1230285 ,  1.1493105 ,\n",
       "        0.7266718 ,  0.7008566 ,  0.71313995,  0.73483586,  0.76496404,\n",
       "        0.8135315 ,  0.7308998 ,  0.72417957,  0.7272396 ,  0.6376882 ,\n",
       "        0.8194121 ,  1.1839198 , -0.399682  , -1.1170874 , -0.97276044,\n",
       "       -0.8309496 , -0.6905453 , -0.6088271 , -0.4070712 , -0.2939847 ,\n",
       "       -0.4312667 , -0.50227153, -0.6137396 , -0.8156235 , -0.9383772 ,\n",
       "       -1.0332501 , -1.1303141 ,  1.1064153 ,  0.72499496,  0.7926863 ,\n",
       "        0.720179  ,  0.7611046 ,  0.8011545 ,  0.84952295,  0.76064026,\n",
       "        0.7620092 ,  0.7241238 ,  0.7476555 ,  0.8137316 ,  1.2440104 ,\n",
       "       -0.28849712, -1.0731547 , -0.95356727, -0.811833  , -0.667721  ,\n",
       "       -0.58494186, -0.3964448 , -0.2731566 , -0.401603  , -0.47716522,\n",
       "       -0.5981442 , -0.802414  , -0.91557777, -1.0095807 , -1.1069931 ,\n",
       "        1.0198004 ,  0.7834541 ,  0.75514084,  0.7567834 ,  0.73983306,\n",
       "        0.8016301 ,  0.90331423,  0.7588568 ,  0.7628382 ,  0.79649615,\n",
       "        0.83578956,  0.8165634 ,  1.3107357 , -0.06217962, -1.0314953 ,\n",
       "       -0.92175025, -0.78806144, -0.6402142 , -0.5465047 , -0.35879365,\n",
       "       -0.26333928, -0.38095444, -0.44983467, -0.5664998 , -0.76692426,\n",
       "       -0.87581426, -0.9663435 , -1.0560789 ,  1.0082146 ,  0.80470973,\n",
       "        0.771464  ,  0.78056884,  0.75828624,  0.82380486,  0.95578027,\n",
       "        0.8058429 ,  0.7952448 ,  0.8199608 ,  0.90816176,  0.87018865,\n",
       "        1.3518696 ,  0.12510794, -0.95693946, -0.8680761 , -0.7339246 ,\n",
       "       -0.580708  , -0.47796437, -0.3034707 , -0.24718295, -0.3530112 ,\n",
       "       -0.42185518, -0.5394291 , -0.73259354, -0.8294778 , -0.90850323,\n",
       "       -0.98165476,  1.0500658 ,  0.86763555,  0.79512393,  0.78162426,\n",
       "        0.7788666 ,  0.84803766,  1.0075178 ,  0.8603609 ,  0.83904356,\n",
       "        0.86192465,  0.98816   ,  0.9333099 ,  1.3945651 ,  0.32660645,\n",
       "       -0.8774839 , -0.7952943 , -0.6701637 , -0.5206658 , -0.42336625,\n",
       "       -0.2696767 , -0.21858768, -0.31187627, -0.37966096, -0.4981463 ,\n",
       "       -0.6856833 , -0.78627384, -0.85051084, -0.914087  ,  1.1012466 ,\n",
       "        0.95468813,  0.86811787,  0.82167965,  0.81199515,  0.90729654,\n",
       "        1.0665041 ,  0.96267533,  0.9082061 ,  0.92140377,  1.0821922 ,\n",
       "        1.0292835 ,  1.4667729 ,  0.4625621 , -0.81067073, -0.732093  ,\n",
       "       -0.61572987, -0.4665394 , -0.37072963, -0.2298913 , -0.18508054,\n",
       "       -0.26382264, -0.33358172, -0.45386165, -0.6345651 , -0.7150227 ,\n",
       "       -0.7821498 , -0.83216095,  1.1173407 ,  1.0405563 ,  0.94584745,\n",
       "        0.87931347,  0.8485154 ,  0.9808357 ,  1.1032602 ,  1.0602989 ,\n",
       "        0.98175293,  0.99037635,  1.147021  ,  1.1172104 ,  1.5529572 ,\n",
       "        0.61202604, -0.743348  , -0.6794156 , -0.5576187 , -0.40750986,\n",
       "       -0.31296268, -0.18758766, -0.1398625 , -0.21147601, -0.28346083,\n",
       "       -0.40690103, -0.58467406, -0.6612695 , -0.7231625 , -0.7581108 ,\n",
       "        1.2308959 ,  1.1627941 ,  1.0251828 ,  0.95553195,  0.9481527 ,\n",
       "        1.0833155 ,  1.2078714 ,  1.1526314 ,  1.0736105 ,  1.0639877 ,\n",
       "        1.2250819 ,  1.2325842 ,  1.6915914 ,  0.7712036 , -0.6899149 ,\n",
       "       -0.6261985 , -0.5068548 , -0.3549314 , -0.26152757, -0.15049192,\n",
       "       -0.10000648, -0.16163528, -0.23385237, -0.35825795, -0.5332785 ,\n",
       "       -0.61989945, -0.6633159 , -0.67806816,  1.1001534 ,  1.3018961 ,\n",
       "        1.1172632 ,  1.0048267 ,  0.99814373,  1.1609508 ,  1.2841281 ,\n",
       "        1.2125611 ,  1.1174551 ,  1.1092212 ,  1.2888776 ,  1.3679323 ,\n",
       "        1.8594095 ,  0.94825274, -0.63714814, -0.582556  , -0.45287254,\n",
       "       -0.2974274 , -0.20892431, -0.11137299, -0.05617561, -0.10437285,\n",
       "       -0.17772608, -0.30551127, -0.47483838, -0.5591385 , -0.59387785,\n",
       "       -0.58784103,  1.4610287 ,  1.5277498 ,  1.2640171 ,  1.3407447 ,\n",
       "        1.3636725 ,  1.5041493 ,  1.6750389 ,  1.5995961 ,  1.5002513 ,\n",
       "        1.4962631 ,  1.720899  ,  1.7078687 ,  2.2721782 ,  1.5286623 ,\n",
       "       -0.57433677, -0.49358717, -0.39816627, -0.24255913, -0.1551864 ,\n",
       "       -0.07603711, -0.02515919, -0.04823348, -0.10154972, -0.20911959,\n",
       "       -0.3404624 , -0.40530458, -0.4364285 , -0.4054615 ,  2.4258714 ,\n",
       "        2.1039987 ,  1.4214054 ,  1.217993  ,  1.1803476 ,  1.3414353 ,\n",
       "        1.2417855 ,  1.1807315 ,  1.0905073 ,  1.1275002 ,  1.4669839 ,\n",
       "        1.857395  ,  2.6977415 ,  1.3246824 , -0.44135848, -0.39662626,\n",
       "       -0.28815576, -0.15681127, -0.08967308, -0.03414729], dtype=float32)"
      ]
     },
     "execution_count": 20,
     "metadata": {},
     "output_type": "execute_result"
    }
   ],
   "source": [
    "from sklearn.preprocessing import StandardScaler\n",
    "sc = StandardScaler()\n",
    "X_train_flat = X_train.reshape((-1, 784))/255\n",
    "X_train_std = sc.fit_transform(X_train_flat) # Maybe bad idea?\n",
    "X_train_std[1]"
   ]
  },
  {
   "cell_type": "code",
   "execution_count": 21,
   "metadata": {},
   "outputs": [],
   "source": [
    "X_test_flat = X_test.reshape((-1, 784))/255\n",
    "# todo: standardscaler on this later"
   ]
  },
  {
   "cell_type": "code",
   "execution_count": 24,
   "metadata": {},
   "outputs": [],
   "source": [
    "from sklearn.model_selection import train_test_split\n",
    "X_train_s, X_test_s, y_train_s, y_test_s = train_test_split(X_train_std, y_train, test_size=0.1)"
   ]
  },
  {
   "cell_type": "markdown",
   "metadata": {},
   "source": [
    "## **XGBoost**"
   ]
  },
  {
   "cell_type": "code",
   "execution_count": 25,
   "metadata": {},
   "outputs": [],
   "source": [
    "import xgboost as xgb"
   ]
  },
  {
   "cell_type": "code",
   "execution_count": 26,
   "metadata": {},
   "outputs": [
    {
     "name": "stdout",
     "output_type": "stream",
     "text": [
      "[0]\ttrain-merror:0.17676\tvalidation-merror:0.19367\n",
      "Multiple eval metrics have been passed: 'validation-merror' will be used for early stopping.\n",
      "\n",
      "Will train until validation-merror hasn't improved in 50 rounds.\n",
      "[1]\ttrain-merror:0.16250\tvalidation-merror:0.17583\n",
      "[2]\ttrain-merror:0.15441\tvalidation-merror:0.16700\n",
      "[3]\ttrain-merror:0.14876\tvalidation-merror:0.16383\n",
      "[4]\ttrain-merror:0.14635\tvalidation-merror:0.16467\n",
      "[5]\ttrain-merror:0.14576\tvalidation-merror:0.16300\n",
      "[6]\ttrain-merror:0.14409\tvalidation-merror:0.16083\n",
      "[7]\ttrain-merror:0.14222\tvalidation-merror:0.15750\n",
      "[8]\ttrain-merror:0.14026\tvalidation-merror:0.15683\n",
      "[9]\ttrain-merror:0.13874\tvalidation-merror:0.15667\n",
      "[10]\ttrain-merror:0.13772\tvalidation-merror:0.15433\n",
      "[11]\ttrain-merror:0.13672\tvalidation-merror:0.15367\n",
      "[12]\ttrain-merror:0.13607\tvalidation-merror:0.15250\n",
      "[13]\ttrain-merror:0.13517\tvalidation-merror:0.15117\n",
      "[14]\ttrain-merror:0.13446\tvalidation-merror:0.15083\n",
      "[15]\ttrain-merror:0.13307\tvalidation-merror:0.15083\n",
      "[16]\ttrain-merror:0.13150\tvalidation-merror:0.14967\n",
      "[17]\ttrain-merror:0.13072\tvalidation-merror:0.14967\n",
      "[18]\ttrain-merror:0.12976\tvalidation-merror:0.14750\n",
      "[19]\ttrain-merror:0.12874\tvalidation-merror:0.14667\n",
      "[20]\ttrain-merror:0.12783\tvalidation-merror:0.14517\n",
      "[21]\ttrain-merror:0.12717\tvalidation-merror:0.14383\n",
      "[22]\ttrain-merror:0.12598\tvalidation-merror:0.14383\n",
      "[23]\ttrain-merror:0.12509\tvalidation-merror:0.14283\n",
      "[24]\ttrain-merror:0.12444\tvalidation-merror:0.14183\n",
      "[25]\ttrain-merror:0.12296\tvalidation-merror:0.14000\n",
      "[26]\ttrain-merror:0.12207\tvalidation-merror:0.13900\n",
      "[27]\ttrain-merror:0.12122\tvalidation-merror:0.13800\n",
      "[28]\ttrain-merror:0.12028\tvalidation-merror:0.13650\n",
      "[29]\ttrain-merror:0.11954\tvalidation-merror:0.13550\n",
      "[30]\ttrain-merror:0.11848\tvalidation-merror:0.13517\n",
      "[31]\ttrain-merror:0.11761\tvalidation-merror:0.13483\n",
      "[32]\ttrain-merror:0.11674\tvalidation-merror:0.13467\n",
      "[33]\ttrain-merror:0.11604\tvalidation-merror:0.13350\n",
      "[34]\ttrain-merror:0.11535\tvalidation-merror:0.13450\n",
      "[35]\ttrain-merror:0.11430\tvalidation-merror:0.13383\n",
      "[36]\ttrain-merror:0.11380\tvalidation-merror:0.13333\n",
      "[37]\ttrain-merror:0.11296\tvalidation-merror:0.13217\n",
      "[38]\ttrain-merror:0.11194\tvalidation-merror:0.13133\n",
      "[39]\ttrain-merror:0.11152\tvalidation-merror:0.13133\n",
      "[40]\ttrain-merror:0.11063\tvalidation-merror:0.13033\n",
      "[41]\ttrain-merror:0.10985\tvalidation-merror:0.13017\n",
      "[42]\ttrain-merror:0.10930\tvalidation-merror:0.12967\n",
      "[43]\ttrain-merror:0.10844\tvalidation-merror:0.12800\n",
      "[44]\ttrain-merror:0.10806\tvalidation-merror:0.12800\n",
      "[45]\ttrain-merror:0.10739\tvalidation-merror:0.12783\n",
      "[46]\ttrain-merror:0.10672\tvalidation-merror:0.12717\n",
      "[47]\ttrain-merror:0.10585\tvalidation-merror:0.12633\n",
      "[48]\ttrain-merror:0.10485\tvalidation-merror:0.12600\n",
      "[49]\ttrain-merror:0.10422\tvalidation-merror:0.12533\n",
      "[50]\ttrain-merror:0.10330\tvalidation-merror:0.12500\n",
      "[51]\ttrain-merror:0.10278\tvalidation-merror:0.12433\n",
      "[52]\ttrain-merror:0.10207\tvalidation-merror:0.12400\n",
      "[53]\ttrain-merror:0.10132\tvalidation-merror:0.12333\n",
      "[54]\ttrain-merror:0.10056\tvalidation-merror:0.12233\n",
      "[55]\ttrain-merror:0.09982\tvalidation-merror:0.12200\n",
      "[56]\ttrain-merror:0.09909\tvalidation-merror:0.12233\n",
      "[57]\ttrain-merror:0.09848\tvalidation-merror:0.12100\n",
      "[58]\ttrain-merror:0.09770\tvalidation-merror:0.12100\n",
      "[59]\ttrain-merror:0.09702\tvalidation-merror:0.12150\n",
      "[60]\ttrain-merror:0.09648\tvalidation-merror:0.12117\n",
      "[61]\ttrain-merror:0.09598\tvalidation-merror:0.12117\n",
      "[62]\ttrain-merror:0.09541\tvalidation-merror:0.11983\n",
      "[63]\ttrain-merror:0.09480\tvalidation-merror:0.11967\n",
      "[64]\ttrain-merror:0.09407\tvalidation-merror:0.12000\n",
      "[65]\ttrain-merror:0.09335\tvalidation-merror:0.11933\n",
      "[66]\ttrain-merror:0.09272\tvalidation-merror:0.11883\n",
      "[67]\ttrain-merror:0.09215\tvalidation-merror:0.11833\n",
      "[68]\ttrain-merror:0.09157\tvalidation-merror:0.11800\n",
      "[69]\ttrain-merror:0.09111\tvalidation-merror:0.11783\n",
      "[70]\ttrain-merror:0.09052\tvalidation-merror:0.11783\n",
      "[71]\ttrain-merror:0.09002\tvalidation-merror:0.11683\n",
      "[72]\ttrain-merror:0.08974\tvalidation-merror:0.11650\n",
      "[73]\ttrain-merror:0.08915\tvalidation-merror:0.11633\n",
      "[74]\ttrain-merror:0.08857\tvalidation-merror:0.11533\n",
      "[75]\ttrain-merror:0.08804\tvalidation-merror:0.11517\n",
      "[76]\ttrain-merror:0.08750\tvalidation-merror:0.11483\n",
      "[77]\ttrain-merror:0.08683\tvalidation-merror:0.11533\n",
      "[78]\ttrain-merror:0.08615\tvalidation-merror:0.11467\n",
      "[79]\ttrain-merror:0.08567\tvalidation-merror:0.11433\n",
      "[80]\ttrain-merror:0.08496\tvalidation-merror:0.11367\n",
      "[81]\ttrain-merror:0.08470\tvalidation-merror:0.11350\n",
      "[82]\ttrain-merror:0.08426\tvalidation-merror:0.11317\n",
      "[83]\ttrain-merror:0.08363\tvalidation-merror:0.11283\n",
      "[84]\ttrain-merror:0.08304\tvalidation-merror:0.11200\n",
      "[85]\ttrain-merror:0.08241\tvalidation-merror:0.11167\n",
      "[86]\ttrain-merror:0.08198\tvalidation-merror:0.11133\n",
      "[87]\ttrain-merror:0.08131\tvalidation-merror:0.11117\n",
      "[88]\ttrain-merror:0.08093\tvalidation-merror:0.11050\n",
      "[89]\ttrain-merror:0.08030\tvalidation-merror:0.11100\n",
      "[90]\ttrain-merror:0.07987\tvalidation-merror:0.11100\n",
      "[91]\ttrain-merror:0.07946\tvalidation-merror:0.11100\n",
      "[92]\ttrain-merror:0.07874\tvalidation-merror:0.11117\n",
      "[93]\ttrain-merror:0.07822\tvalidation-merror:0.11117\n",
      "[94]\ttrain-merror:0.07783\tvalidation-merror:0.11050\n",
      "[95]\ttrain-merror:0.07720\tvalidation-merror:0.10983\n",
      "[96]\ttrain-merror:0.07659\tvalidation-merror:0.11033\n",
      "[97]\ttrain-merror:0.07628\tvalidation-merror:0.11000\n",
      "[98]\ttrain-merror:0.07561\tvalidation-merror:0.10950\n",
      "[99]\ttrain-merror:0.07494\tvalidation-merror:0.11017\n",
      "[100]\ttrain-merror:0.07452\tvalidation-merror:0.10933\n",
      "[101]\ttrain-merror:0.07387\tvalidation-merror:0.10967\n",
      "[102]\ttrain-merror:0.07319\tvalidation-merror:0.10867\n",
      "[103]\ttrain-merror:0.07265\tvalidation-merror:0.10833\n",
      "[104]\ttrain-merror:0.07244\tvalidation-merror:0.10850\n",
      "[105]\ttrain-merror:0.07198\tvalidation-merror:0.10783\n",
      "[106]\ttrain-merror:0.07135\tvalidation-merror:0.10767\n",
      "[107]\ttrain-merror:0.07057\tvalidation-merror:0.10717\n",
      "[108]\ttrain-merror:0.07024\tvalidation-merror:0.10667\n",
      "[109]\ttrain-merror:0.06937\tvalidation-merror:0.10683\n",
      "[110]\ttrain-merror:0.06865\tvalidation-merror:0.10683\n",
      "[111]\ttrain-merror:0.06832\tvalidation-merror:0.10683\n",
      "[112]\ttrain-merror:0.06791\tvalidation-merror:0.10700\n",
      "[113]\ttrain-merror:0.06756\tvalidation-merror:0.10650\n",
      "[114]\ttrain-merror:0.06728\tvalidation-merror:0.10633\n",
      "[115]\ttrain-merror:0.06674\tvalidation-merror:0.10567\n",
      "[116]\ttrain-merror:0.06594\tvalidation-merror:0.10567\n",
      "[117]\ttrain-merror:0.06550\tvalidation-merror:0.10483\n",
      "[118]\ttrain-merror:0.06502\tvalidation-merror:0.10417\n",
      "[119]\ttrain-merror:0.06461\tvalidation-merror:0.10417\n",
      "[120]\ttrain-merror:0.06381\tvalidation-merror:0.10467\n",
      "[121]\ttrain-merror:0.06326\tvalidation-merror:0.10517\n",
      "[122]\ttrain-merror:0.06278\tvalidation-merror:0.10500\n",
      "[123]\ttrain-merror:0.06233\tvalidation-merror:0.10433\n",
      "[124]\ttrain-merror:0.06193\tvalidation-merror:0.10433\n",
      "[125]\ttrain-merror:0.06139\tvalidation-merror:0.10417\n",
      "[126]\ttrain-merror:0.06104\tvalidation-merror:0.10450\n",
      "[127]\ttrain-merror:0.06032\tvalidation-merror:0.10433\n",
      "[128]\ttrain-merror:0.05993\tvalidation-merror:0.10400\n",
      "[129]\ttrain-merror:0.05954\tvalidation-merror:0.10367\n",
      "[130]\ttrain-merror:0.05900\tvalidation-merror:0.10333\n",
      "[131]\ttrain-merror:0.05852\tvalidation-merror:0.10283\n",
      "[132]\ttrain-merror:0.05793\tvalidation-merror:0.10233\n",
      "[133]\ttrain-merror:0.05757\tvalidation-merror:0.10250\n",
      "[134]\ttrain-merror:0.05720\tvalidation-merror:0.10300\n",
      "[135]\ttrain-merror:0.05678\tvalidation-merror:0.10217\n",
      "[136]\ttrain-merror:0.05644\tvalidation-merror:0.10250\n",
      "[137]\ttrain-merror:0.05615\tvalidation-merror:0.10233\n",
      "[138]\ttrain-merror:0.05570\tvalidation-merror:0.10150\n",
      "[139]\ttrain-merror:0.05532\tvalidation-merror:0.10083\n",
      "[140]\ttrain-merror:0.05480\tvalidation-merror:0.10083\n",
      "[141]\ttrain-merror:0.05441\tvalidation-merror:0.10133\n",
      "[142]\ttrain-merror:0.05382\tvalidation-merror:0.10117\n",
      "[143]\ttrain-merror:0.05344\tvalidation-merror:0.10117\n",
      "[144]\ttrain-merror:0.05300\tvalidation-merror:0.10117\n",
      "[145]\ttrain-merror:0.05259\tvalidation-merror:0.10117\n",
      "[146]\ttrain-merror:0.05215\tvalidation-merror:0.10167\n",
      "[147]\ttrain-merror:0.05183\tvalidation-merror:0.10117\n",
      "[148]\ttrain-merror:0.05128\tvalidation-merror:0.10067\n",
      "[149]\ttrain-merror:0.05093\tvalidation-merror:0.10017\n",
      "[150]\ttrain-merror:0.05044\tvalidation-merror:0.10033\n",
      "[151]\ttrain-merror:0.04989\tvalidation-merror:0.09983\n",
      "[152]\ttrain-merror:0.04956\tvalidation-merror:0.09900\n",
      "[153]\ttrain-merror:0.04926\tvalidation-merror:0.09950\n"
     ]
    },
    {
     "name": "stdout",
     "output_type": "stream",
     "text": [
      "[154]\ttrain-merror:0.04867\tvalidation-merror:0.09900\n",
      "[155]\ttrain-merror:0.04820\tvalidation-merror:0.09917\n",
      "[156]\ttrain-merror:0.04798\tvalidation-merror:0.09883\n",
      "[157]\ttrain-merror:0.04763\tvalidation-merror:0.09867\n",
      "[158]\ttrain-merror:0.04728\tvalidation-merror:0.09900\n",
      "[159]\ttrain-merror:0.04691\tvalidation-merror:0.09900\n",
      "[160]\ttrain-merror:0.04657\tvalidation-merror:0.09917\n",
      "[161]\ttrain-merror:0.04632\tvalidation-merror:0.09883\n",
      "[162]\ttrain-merror:0.04604\tvalidation-merror:0.09867\n",
      "[163]\ttrain-merror:0.04576\tvalidation-merror:0.09883\n",
      "[164]\ttrain-merror:0.04539\tvalidation-merror:0.09883\n",
      "[165]\ttrain-merror:0.04498\tvalidation-merror:0.09850\n",
      "[166]\ttrain-merror:0.04448\tvalidation-merror:0.09867\n",
      "[167]\ttrain-merror:0.04424\tvalidation-merror:0.09833\n",
      "[168]\ttrain-merror:0.04389\tvalidation-merror:0.09850\n",
      "[169]\ttrain-merror:0.04365\tvalidation-merror:0.09867\n",
      "[170]\ttrain-merror:0.04335\tvalidation-merror:0.09933\n",
      "[171]\ttrain-merror:0.04320\tvalidation-merror:0.09900\n",
      "[172]\ttrain-merror:0.04281\tvalidation-merror:0.09850\n",
      "[173]\ttrain-merror:0.04274\tvalidation-merror:0.09867\n",
      "[174]\ttrain-merror:0.04231\tvalidation-merror:0.09750\n",
      "[175]\ttrain-merror:0.04202\tvalidation-merror:0.09800\n",
      "[176]\ttrain-merror:0.04167\tvalidation-merror:0.09833\n",
      "[177]\ttrain-merror:0.04148\tvalidation-merror:0.09750\n",
      "[178]\ttrain-merror:0.04122\tvalidation-merror:0.09783\n",
      "[179]\ttrain-merror:0.04124\tvalidation-merror:0.09800\n",
      "[180]\ttrain-merror:0.04087\tvalidation-merror:0.09783\n",
      "[181]\ttrain-merror:0.04072\tvalidation-merror:0.09783\n",
      "[182]\ttrain-merror:0.04043\tvalidation-merror:0.09817\n",
      "[183]\ttrain-merror:0.04018\tvalidation-merror:0.09817\n",
      "[184]\ttrain-merror:0.03970\tvalidation-merror:0.09783\n",
      "[185]\ttrain-merror:0.03933\tvalidation-merror:0.09800\n",
      "[186]\ttrain-merror:0.03915\tvalidation-merror:0.09817\n",
      "[187]\ttrain-merror:0.03896\tvalidation-merror:0.09800\n",
      "[188]\ttrain-merror:0.03885\tvalidation-merror:0.09767\n",
      "[189]\ttrain-merror:0.03844\tvalidation-merror:0.09733\n",
      "[190]\ttrain-merror:0.03807\tvalidation-merror:0.09750\n",
      "[191]\ttrain-merror:0.03798\tvalidation-merror:0.09717\n",
      "[192]\ttrain-merror:0.03759\tvalidation-merror:0.09700\n",
      "[193]\ttrain-merror:0.03726\tvalidation-merror:0.09733\n",
      "[194]\ttrain-merror:0.03706\tvalidation-merror:0.09700\n",
      "[195]\ttrain-merror:0.03670\tvalidation-merror:0.09700\n",
      "[196]\ttrain-merror:0.03646\tvalidation-merror:0.09700\n",
      "[197]\ttrain-merror:0.03630\tvalidation-merror:0.09650\n",
      "[198]\ttrain-merror:0.03617\tvalidation-merror:0.09583\n",
      "[199]\ttrain-merror:0.03581\tvalidation-merror:0.09617\n",
      "[200]\ttrain-merror:0.03557\tvalidation-merror:0.09583\n",
      "[201]\ttrain-merror:0.03537\tvalidation-merror:0.09600\n",
      "[202]\ttrain-merror:0.03511\tvalidation-merror:0.09567\n",
      "[203]\ttrain-merror:0.03483\tvalidation-merror:0.09550\n",
      "[204]\ttrain-merror:0.03448\tvalidation-merror:0.09517\n",
      "[205]\ttrain-merror:0.03435\tvalidation-merror:0.09500\n",
      "[206]\ttrain-merror:0.03409\tvalidation-merror:0.09467\n",
      "[207]\ttrain-merror:0.03387\tvalidation-merror:0.09500\n",
      "[208]\ttrain-merror:0.03383\tvalidation-merror:0.09483\n",
      "[209]\ttrain-merror:0.03344\tvalidation-merror:0.09500\n",
      "[210]\ttrain-merror:0.03339\tvalidation-merror:0.09483\n",
      "[211]\ttrain-merror:0.03311\tvalidation-merror:0.09467\n",
      "[212]\ttrain-merror:0.03283\tvalidation-merror:0.09450\n",
      "[213]\ttrain-merror:0.03257\tvalidation-merror:0.09417\n",
      "[214]\ttrain-merror:0.03220\tvalidation-merror:0.09433\n",
      "[215]\ttrain-merror:0.03198\tvalidation-merror:0.09417\n",
      "[216]\ttrain-merror:0.03161\tvalidation-merror:0.09467\n",
      "[217]\ttrain-merror:0.03132\tvalidation-merror:0.09450\n",
      "[218]\ttrain-merror:0.03113\tvalidation-merror:0.09433\n",
      "[219]\ttrain-merror:0.03109\tvalidation-merror:0.09433\n",
      "[220]\ttrain-merror:0.03085\tvalidation-merror:0.09433\n",
      "[221]\ttrain-merror:0.03052\tvalidation-merror:0.09417\n",
      "[222]\ttrain-merror:0.03024\tvalidation-merror:0.09417\n",
      "[223]\ttrain-merror:0.03022\tvalidation-merror:0.09467\n",
      "[224]\ttrain-merror:0.03006\tvalidation-merror:0.09450\n",
      "[225]\ttrain-merror:0.02976\tvalidation-merror:0.09417\n",
      "[226]\ttrain-merror:0.02959\tvalidation-merror:0.09433\n",
      "[227]\ttrain-merror:0.02930\tvalidation-merror:0.09433\n",
      "[228]\ttrain-merror:0.02902\tvalidation-merror:0.09400\n",
      "[229]\ttrain-merror:0.02885\tvalidation-merror:0.09417\n",
      "[230]\ttrain-merror:0.02874\tvalidation-merror:0.09367\n",
      "[231]\ttrain-merror:0.02850\tvalidation-merror:0.09367\n",
      "[232]\ttrain-merror:0.02809\tvalidation-merror:0.09367\n",
      "[233]\ttrain-merror:0.02787\tvalidation-merror:0.09383\n",
      "[234]\ttrain-merror:0.02769\tvalidation-merror:0.09367\n",
      "[235]\ttrain-merror:0.02739\tvalidation-merror:0.09367\n",
      "[236]\ttrain-merror:0.02713\tvalidation-merror:0.09367\n",
      "[237]\ttrain-merror:0.02700\tvalidation-merror:0.09367\n",
      "[238]\ttrain-merror:0.02667\tvalidation-merror:0.09383\n",
      "[239]\ttrain-merror:0.02643\tvalidation-merror:0.09383\n",
      "[240]\ttrain-merror:0.02617\tvalidation-merror:0.09367\n",
      "[241]\ttrain-merror:0.02606\tvalidation-merror:0.09383\n",
      "[242]\ttrain-merror:0.02602\tvalidation-merror:0.09367\n",
      "[243]\ttrain-merror:0.02568\tvalidation-merror:0.09350\n",
      "[244]\ttrain-merror:0.02557\tvalidation-merror:0.09367\n",
      "[245]\ttrain-merror:0.02541\tvalidation-merror:0.09350\n",
      "[246]\ttrain-merror:0.02517\tvalidation-merror:0.09333\n",
      "[247]\ttrain-merror:0.02498\tvalidation-merror:0.09350\n",
      "[248]\ttrain-merror:0.02493\tvalidation-merror:0.09283\n",
      "[249]\ttrain-merror:0.02467\tvalidation-merror:0.09283\n",
      "[250]\ttrain-merror:0.02459\tvalidation-merror:0.09283\n",
      "[251]\ttrain-merror:0.02443\tvalidation-merror:0.09300\n",
      "[252]\ttrain-merror:0.02422\tvalidation-merror:0.09267\n",
      "[253]\ttrain-merror:0.02400\tvalidation-merror:0.09267\n",
      "[254]\ttrain-merror:0.02378\tvalidation-merror:0.09250\n",
      "[255]\ttrain-merror:0.02361\tvalidation-merror:0.09267\n",
      "[256]\ttrain-merror:0.02359\tvalidation-merror:0.09250\n",
      "[257]\ttrain-merror:0.02320\tvalidation-merror:0.09283\n",
      "[258]\ttrain-merror:0.02306\tvalidation-merror:0.09267\n",
      "[259]\ttrain-merror:0.02291\tvalidation-merror:0.09283\n",
      "[260]\ttrain-merror:0.02285\tvalidation-merror:0.09267\n",
      "[261]\ttrain-merror:0.02270\tvalidation-merror:0.09283\n",
      "[262]\ttrain-merror:0.02252\tvalidation-merror:0.09283\n",
      "[263]\ttrain-merror:0.02230\tvalidation-merror:0.09250\n",
      "[264]\ttrain-merror:0.02211\tvalidation-merror:0.09283\n",
      "[265]\ttrain-merror:0.02198\tvalidation-merror:0.09250\n",
      "[266]\ttrain-merror:0.02168\tvalidation-merror:0.09250\n",
      "[267]\ttrain-merror:0.02144\tvalidation-merror:0.09267\n",
      "[268]\ttrain-merror:0.02133\tvalidation-merror:0.09250\n",
      "[269]\ttrain-merror:0.02124\tvalidation-merror:0.09267\n",
      "[270]\ttrain-merror:0.02100\tvalidation-merror:0.09267\n",
      "[271]\ttrain-merror:0.02074\tvalidation-merror:0.09250\n",
      "[272]\ttrain-merror:0.02065\tvalidation-merror:0.09233\n",
      "[273]\ttrain-merror:0.02056\tvalidation-merror:0.09217\n",
      "[274]\ttrain-merror:0.02044\tvalidation-merror:0.09217\n",
      "[275]\ttrain-merror:0.02033\tvalidation-merror:0.09217\n",
      "[276]\ttrain-merror:0.02026\tvalidation-merror:0.09217\n",
      "[277]\ttrain-merror:0.02006\tvalidation-merror:0.09217\n",
      "[278]\ttrain-merror:0.01993\tvalidation-merror:0.09217\n",
      "[279]\ttrain-merror:0.01974\tvalidation-merror:0.09217\n",
      "[280]\ttrain-merror:0.01943\tvalidation-merror:0.09267\n",
      "[281]\ttrain-merror:0.01933\tvalidation-merror:0.09233\n",
      "[282]\ttrain-merror:0.01915\tvalidation-merror:0.09267\n",
      "[283]\ttrain-merror:0.01898\tvalidation-merror:0.09267\n",
      "[284]\ttrain-merror:0.01893\tvalidation-merror:0.09267\n",
      "[285]\ttrain-merror:0.01881\tvalidation-merror:0.09267\n",
      "[286]\ttrain-merror:0.01863\tvalidation-merror:0.09233\n",
      "[287]\ttrain-merror:0.01861\tvalidation-merror:0.09217\n",
      "[288]\ttrain-merror:0.01856\tvalidation-merror:0.09217\n",
      "[289]\ttrain-merror:0.01835\tvalidation-merror:0.09200\n",
      "[290]\ttrain-merror:0.01828\tvalidation-merror:0.09167\n",
      "[291]\ttrain-merror:0.01809\tvalidation-merror:0.09200\n",
      "[292]\ttrain-merror:0.01800\tvalidation-merror:0.09167\n",
      "[293]\ttrain-merror:0.01789\tvalidation-merror:0.09183\n",
      "[294]\ttrain-merror:0.01770\tvalidation-merror:0.09217\n",
      "[295]\ttrain-merror:0.01756\tvalidation-merror:0.09217\n",
      "[296]\ttrain-merror:0.01737\tvalidation-merror:0.09200\n",
      "[297]\ttrain-merror:0.01726\tvalidation-merror:0.09200\n",
      "[298]\ttrain-merror:0.01726\tvalidation-merror:0.09183\n",
      "[299]\ttrain-merror:0.01711\tvalidation-merror:0.09183\n",
      "[300]\ttrain-merror:0.01691\tvalidation-merror:0.09217\n",
      "[301]\ttrain-merror:0.01668\tvalidation-merror:0.09250\n",
      "[302]\ttrain-merror:0.01656\tvalidation-merror:0.09233\n",
      "[303]\ttrain-merror:0.01650\tvalidation-merror:0.09217\n",
      "[304]\ttrain-merror:0.01646\tvalidation-merror:0.09267\n",
      "[305]\ttrain-merror:0.01641\tvalidation-merror:0.09267\n",
      "[306]\ttrain-merror:0.01624\tvalidation-merror:0.09283\n",
      "[307]\ttrain-merror:0.01617\tvalidation-merror:0.09283\n",
      "[308]\ttrain-merror:0.01604\tvalidation-merror:0.09250\n"
     ]
    },
    {
     "name": "stdout",
     "output_type": "stream",
     "text": [
      "[309]\ttrain-merror:0.01589\tvalidation-merror:0.09217\n",
      "[310]\ttrain-merror:0.01589\tvalidation-merror:0.09217\n",
      "[311]\ttrain-merror:0.01576\tvalidation-merror:0.09200\n",
      "[312]\ttrain-merror:0.01557\tvalidation-merror:0.09250\n",
      "[313]\ttrain-merror:0.01548\tvalidation-merror:0.09217\n",
      "[314]\ttrain-merror:0.01535\tvalidation-merror:0.09217\n",
      "[315]\ttrain-merror:0.01533\tvalidation-merror:0.09217\n",
      "[316]\ttrain-merror:0.01522\tvalidation-merror:0.09250\n",
      "[317]\ttrain-merror:0.01509\tvalidation-merror:0.09250\n",
      "[318]\ttrain-merror:0.01493\tvalidation-merror:0.09217\n",
      "[319]\ttrain-merror:0.01489\tvalidation-merror:0.09217\n",
      "[320]\ttrain-merror:0.01476\tvalidation-merror:0.09217\n",
      "[321]\ttrain-merror:0.01467\tvalidation-merror:0.09183\n",
      "[322]\ttrain-merror:0.01448\tvalidation-merror:0.09217\n",
      "[323]\ttrain-merror:0.01448\tvalidation-merror:0.09217\n",
      "[324]\ttrain-merror:0.01437\tvalidation-merror:0.09200\n",
      "[325]\ttrain-merror:0.01437\tvalidation-merror:0.09233\n",
      "[326]\ttrain-merror:0.01428\tvalidation-merror:0.09250\n",
      "[327]\ttrain-merror:0.01420\tvalidation-merror:0.09250\n",
      "[328]\ttrain-merror:0.01407\tvalidation-merror:0.09200\n",
      "[329]\ttrain-merror:0.01393\tvalidation-merror:0.09200\n",
      "[330]\ttrain-merror:0.01385\tvalidation-merror:0.09200\n",
      "[331]\ttrain-merror:0.01374\tvalidation-merror:0.09217\n",
      "[332]\ttrain-merror:0.01365\tvalidation-merror:0.09217\n",
      "[333]\ttrain-merror:0.01361\tvalidation-merror:0.09200\n",
      "[334]\ttrain-merror:0.01354\tvalidation-merror:0.09200\n",
      "[335]\ttrain-merror:0.01333\tvalidation-merror:0.09183\n",
      "[336]\ttrain-merror:0.01330\tvalidation-merror:0.09167\n",
      "[337]\ttrain-merror:0.01328\tvalidation-merror:0.09150\n",
      "[338]\ttrain-merror:0.01315\tvalidation-merror:0.09150\n",
      "[339]\ttrain-merror:0.01296\tvalidation-merror:0.09150\n",
      "[340]\ttrain-merror:0.01285\tvalidation-merror:0.09150\n",
      "[341]\ttrain-merror:0.01289\tvalidation-merror:0.09150\n",
      "[342]\ttrain-merror:0.01289\tvalidation-merror:0.09150\n",
      "[343]\ttrain-merror:0.01276\tvalidation-merror:0.09167\n",
      "[344]\ttrain-merror:0.01274\tvalidation-merror:0.09167\n",
      "[345]\ttrain-merror:0.01256\tvalidation-merror:0.09133\n",
      "[346]\ttrain-merror:0.01237\tvalidation-merror:0.09117\n",
      "[347]\ttrain-merror:0.01235\tvalidation-merror:0.09133\n",
      "[348]\ttrain-merror:0.01220\tvalidation-merror:0.09133\n",
      "[349]\ttrain-merror:0.01206\tvalidation-merror:0.09117\n",
      "[350]\ttrain-merror:0.01213\tvalidation-merror:0.09100\n",
      "[351]\ttrain-merror:0.01196\tvalidation-merror:0.09133\n",
      "[352]\ttrain-merror:0.01191\tvalidation-merror:0.09133\n",
      "[353]\ttrain-merror:0.01191\tvalidation-merror:0.09150\n",
      "[354]\ttrain-merror:0.01182\tvalidation-merror:0.09117\n",
      "[355]\ttrain-merror:0.01172\tvalidation-merror:0.09100\n",
      "[356]\ttrain-merror:0.01172\tvalidation-merror:0.09133\n",
      "[357]\ttrain-merror:0.01168\tvalidation-merror:0.09117\n",
      "[358]\ttrain-merror:0.01163\tvalidation-merror:0.09133\n",
      "[359]\ttrain-merror:0.01150\tvalidation-merror:0.09133\n",
      "[360]\ttrain-merror:0.01144\tvalidation-merror:0.09117\n",
      "[361]\ttrain-merror:0.01132\tvalidation-merror:0.09100\n",
      "[362]\ttrain-merror:0.01132\tvalidation-merror:0.09100\n",
      "[363]\ttrain-merror:0.01128\tvalidation-merror:0.09133\n",
      "[364]\ttrain-merror:0.01117\tvalidation-merror:0.09150\n",
      "[365]\ttrain-merror:0.01113\tvalidation-merror:0.09150\n",
      "[366]\ttrain-merror:0.01104\tvalidation-merror:0.09167\n",
      "[367]\ttrain-merror:0.01091\tvalidation-merror:0.09150\n",
      "[368]\ttrain-merror:0.01081\tvalidation-merror:0.09150\n",
      "[369]\ttrain-merror:0.01070\tvalidation-merror:0.09150\n",
      "[370]\ttrain-merror:0.01067\tvalidation-merror:0.09150\n",
      "[371]\ttrain-merror:0.01061\tvalidation-merror:0.09117\n",
      "[372]\ttrain-merror:0.01054\tvalidation-merror:0.09083\n",
      "[373]\ttrain-merror:0.01048\tvalidation-merror:0.09067\n",
      "[374]\ttrain-merror:0.01043\tvalidation-merror:0.09067\n",
      "[375]\ttrain-merror:0.01033\tvalidation-merror:0.09083\n",
      "[376]\ttrain-merror:0.01033\tvalidation-merror:0.09050\n",
      "[377]\ttrain-merror:0.01026\tvalidation-merror:0.09067\n",
      "[378]\ttrain-merror:0.01013\tvalidation-merror:0.09067\n",
      "[379]\ttrain-merror:0.01007\tvalidation-merror:0.09050\n",
      "[380]\ttrain-merror:0.01004\tvalidation-merror:0.09050\n",
      "[381]\ttrain-merror:0.00989\tvalidation-merror:0.09050\n",
      "[382]\ttrain-merror:0.00980\tvalidation-merror:0.09067\n",
      "[383]\ttrain-merror:0.00970\tvalidation-merror:0.09050\n",
      "[384]\ttrain-merror:0.00965\tvalidation-merror:0.09050\n",
      "[385]\ttrain-merror:0.00961\tvalidation-merror:0.09050\n",
      "[386]\ttrain-merror:0.00956\tvalidation-merror:0.09067\n",
      "[387]\ttrain-merror:0.00941\tvalidation-merror:0.09083\n",
      "[388]\ttrain-merror:0.00943\tvalidation-merror:0.09100\n",
      "[389]\ttrain-merror:0.00939\tvalidation-merror:0.09050\n",
      "[390]\ttrain-merror:0.00937\tvalidation-merror:0.09050\n",
      "[391]\ttrain-merror:0.00926\tvalidation-merror:0.09050\n",
      "[392]\ttrain-merror:0.00928\tvalidation-merror:0.09067\n",
      "[393]\ttrain-merror:0.00924\tvalidation-merror:0.09083\n",
      "[394]\ttrain-merror:0.00915\tvalidation-merror:0.09033\n",
      "[395]\ttrain-merror:0.00915\tvalidation-merror:0.09117\n",
      "[396]\ttrain-merror:0.00906\tvalidation-merror:0.09067\n",
      "[397]\ttrain-merror:0.00894\tvalidation-merror:0.09050\n",
      "[398]\ttrain-merror:0.00894\tvalidation-merror:0.09033\n",
      "[399]\ttrain-merror:0.00883\tvalidation-merror:0.09017\n",
      "[400]\ttrain-merror:0.00885\tvalidation-merror:0.09067\n",
      "[401]\ttrain-merror:0.00878\tvalidation-merror:0.09067\n",
      "[402]\ttrain-merror:0.00870\tvalidation-merror:0.09033\n",
      "[403]\ttrain-merror:0.00861\tvalidation-merror:0.09033\n",
      "[404]\ttrain-merror:0.00863\tvalidation-merror:0.09000\n",
      "[405]\ttrain-merror:0.00857\tvalidation-merror:0.09000\n",
      "[406]\ttrain-merror:0.00848\tvalidation-merror:0.08983\n",
      "[407]\ttrain-merror:0.00848\tvalidation-merror:0.08983\n",
      "[408]\ttrain-merror:0.00850\tvalidation-merror:0.08967\n",
      "[409]\ttrain-merror:0.00837\tvalidation-merror:0.09000\n",
      "[410]\ttrain-merror:0.00835\tvalidation-merror:0.09033\n",
      "[411]\ttrain-merror:0.00830\tvalidation-merror:0.09033\n",
      "[412]\ttrain-merror:0.00813\tvalidation-merror:0.09067\n",
      "[413]\ttrain-merror:0.00807\tvalidation-merror:0.09050\n",
      "[414]\ttrain-merror:0.00806\tvalidation-merror:0.09050\n",
      "[415]\ttrain-merror:0.00804\tvalidation-merror:0.09067\n",
      "[416]\ttrain-merror:0.00791\tvalidation-merror:0.09033\n",
      "[417]\ttrain-merror:0.00778\tvalidation-merror:0.09050\n",
      "[418]\ttrain-merror:0.00770\tvalidation-merror:0.09067\n",
      "[419]\ttrain-merror:0.00765\tvalidation-merror:0.09050\n",
      "[420]\ttrain-merror:0.00759\tvalidation-merror:0.09033\n",
      "[421]\ttrain-merror:0.00743\tvalidation-merror:0.09017\n",
      "[422]\ttrain-merror:0.00732\tvalidation-merror:0.09033\n",
      "[423]\ttrain-merror:0.00728\tvalidation-merror:0.09050\n",
      "[424]\ttrain-merror:0.00720\tvalidation-merror:0.09050\n",
      "[425]\ttrain-merror:0.00711\tvalidation-merror:0.09017\n",
      "[426]\ttrain-merror:0.00715\tvalidation-merror:0.08983\n",
      "[427]\ttrain-merror:0.00715\tvalidation-merror:0.08950\n",
      "[428]\ttrain-merror:0.00709\tvalidation-merror:0.08967\n",
      "[429]\ttrain-merror:0.00707\tvalidation-merror:0.08967\n",
      "[430]\ttrain-merror:0.00694\tvalidation-merror:0.08983\n",
      "[431]\ttrain-merror:0.00689\tvalidation-merror:0.08967\n",
      "[432]\ttrain-merror:0.00678\tvalidation-merror:0.08900\n",
      "[433]\ttrain-merror:0.00683\tvalidation-merror:0.08900\n",
      "[434]\ttrain-merror:0.00676\tvalidation-merror:0.08917\n",
      "[435]\ttrain-merror:0.00667\tvalidation-merror:0.08933\n",
      "[436]\ttrain-merror:0.00663\tvalidation-merror:0.08933\n",
      "[437]\ttrain-merror:0.00656\tvalidation-merror:0.08967\n",
      "[438]\ttrain-merror:0.00652\tvalidation-merror:0.08950\n",
      "[439]\ttrain-merror:0.00646\tvalidation-merror:0.08967\n",
      "[440]\ttrain-merror:0.00646\tvalidation-merror:0.08967\n",
      "[441]\ttrain-merror:0.00639\tvalidation-merror:0.08967\n",
      "[442]\ttrain-merror:0.00639\tvalidation-merror:0.08950\n",
      "[443]\ttrain-merror:0.00637\tvalidation-merror:0.08967\n",
      "[444]\ttrain-merror:0.00624\tvalidation-merror:0.08933\n",
      "[445]\ttrain-merror:0.00626\tvalidation-merror:0.08950\n",
      "[446]\ttrain-merror:0.00617\tvalidation-merror:0.08983\n",
      "[447]\ttrain-merror:0.00611\tvalidation-merror:0.08983\n",
      "[448]\ttrain-merror:0.00606\tvalidation-merror:0.08983\n",
      "[449]\ttrain-merror:0.00598\tvalidation-merror:0.08967\n",
      "[450]\ttrain-merror:0.00602\tvalidation-merror:0.08950\n",
      "[451]\ttrain-merror:0.00594\tvalidation-merror:0.08983\n",
      "[452]\ttrain-merror:0.00591\tvalidation-merror:0.08983\n",
      "[453]\ttrain-merror:0.00583\tvalidation-merror:0.09000\n",
      "[454]\ttrain-merror:0.00587\tvalidation-merror:0.08983\n",
      "[455]\ttrain-merror:0.00587\tvalidation-merror:0.08950\n",
      "[456]\ttrain-merror:0.00585\tvalidation-merror:0.08967\n",
      "[457]\ttrain-merror:0.00580\tvalidation-merror:0.08967\n",
      "[458]\ttrain-merror:0.00574\tvalidation-merror:0.08983\n",
      "[459]\ttrain-merror:0.00567\tvalidation-merror:0.08967\n",
      "[460]\ttrain-merror:0.00572\tvalidation-merror:0.08967\n",
      "[461]\ttrain-merror:0.00565\tvalidation-merror:0.08983\n",
      "[462]\ttrain-merror:0.00561\tvalidation-merror:0.09000\n",
      "[463]\ttrain-merror:0.00557\tvalidation-merror:0.09000\n"
     ]
    },
    {
     "name": "stdout",
     "output_type": "stream",
     "text": [
      "[464]\ttrain-merror:0.00554\tvalidation-merror:0.09000\n",
      "[465]\ttrain-merror:0.00552\tvalidation-merror:0.08983\n",
      "[466]\ttrain-merror:0.00550\tvalidation-merror:0.08967\n",
      "[467]\ttrain-merror:0.00544\tvalidation-merror:0.08983\n",
      "[468]\ttrain-merror:0.00539\tvalidation-merror:0.08983\n",
      "[469]\ttrain-merror:0.00530\tvalidation-merror:0.08967\n",
      "[470]\ttrain-merror:0.00524\tvalidation-merror:0.09033\n",
      "[471]\ttrain-merror:0.00522\tvalidation-merror:0.09017\n",
      "[472]\ttrain-merror:0.00522\tvalidation-merror:0.09000\n",
      "[473]\ttrain-merror:0.00520\tvalidation-merror:0.09017\n",
      "[474]\ttrain-merror:0.00513\tvalidation-merror:0.09017\n",
      "[475]\ttrain-merror:0.00507\tvalidation-merror:0.09017\n",
      "[476]\ttrain-merror:0.00502\tvalidation-merror:0.09000\n",
      "[477]\ttrain-merror:0.00500\tvalidation-merror:0.09017\n",
      "[478]\ttrain-merror:0.00500\tvalidation-merror:0.08983\n",
      "[479]\ttrain-merror:0.00498\tvalidation-merror:0.08983\n",
      "[480]\ttrain-merror:0.00498\tvalidation-merror:0.08967\n",
      "[481]\ttrain-merror:0.00493\tvalidation-merror:0.09017\n",
      "[482]\ttrain-merror:0.00493\tvalidation-merror:0.09000\n",
      "Stopping. Best iteration:\n",
      "[432]\ttrain-merror:0.00678\tvalidation-merror:0.08900\n",
      "\n"
     ]
    }
   ],
   "source": [
    "param_list = [(\"eta\", 0.08), (\"max_depth\", 6), (\"subsample\", 0.8), (\"colsample_bytree\", 0.8), (\"objective\", \"multi:softmax\"), (\"eval_metric\", \"merror\"), (\"alpha\", 8), (\"lambda\", 2), (\"num_class\", 10)]\n",
    "n_rounds = 600\n",
    "early_stopping = 50\n",
    "    \n",
    "d_train = xgb.DMatrix(X_train_s, label=y_train_s)\n",
    "d_val = xgb.DMatrix(X_test_s, label=y_test_s)\n",
    "eval_list = [(d_train, \"train\"), (d_val, \"validation\")]\n",
    "bst = xgb.train(param_list, d_train, n_rounds, evals=eval_list, early_stopping_rounds=early_stopping, verbose_eval=True)"
   ]
  },
  {
   "cell_type": "code",
   "execution_count": 34,
   "metadata": {},
   "outputs": [],
   "source": [
    "X_test_std = sc.fit_transform(X_test_flat)"
   ]
  },
  {
   "cell_type": "code",
   "execution_count": 51,
   "metadata": {},
   "outputs": [],
   "source": [
    "d_test = xgb.DMatrix(data=X_test_std)\n",
    "y_pred = bst.predict(d_test)"
   ]
  },
  {
   "cell_type": "code",
   "execution_count": 52,
   "metadata": {},
   "outputs": [
    {
     "name": "stdout",
     "output_type": "stream",
     "text": [
      "Accuracy: 0.8986\n"
     ]
    }
   ],
   "source": [
    "from sklearn.metrics import accuracy_score\n",
    "print('Accuracy:', accuracy_score(y_test, y_pred))"
   ]
  },
  {
   "cell_type": "markdown",
   "metadata": {},
   "source": [
    "# Logistic Regression"
   ]
  },
  {
   "cell_type": "code",
   "execution_count": 78,
   "metadata": {},
   "outputs": [],
   "source": [
    "log_reg = LogisticRegression(penalty='l2', random_state=100, solver='lbfgs', max_iter=200)"
   ]
  },
  {
   "cell_type": "code",
   "execution_count": 79,
   "metadata": {},
   "outputs": [
    {
     "data": {
      "text/plain": [
       "LogisticRegression(max_iter=200, random_state=100)"
      ]
     },
     "execution_count": 79,
     "metadata": {},
     "output_type": "execute_result"
    }
   ],
   "source": [
    "log_reg.fit(X_train_flat, y_train)"
   ]
  },
  {
   "cell_type": "code",
   "execution_count": 80,
   "metadata": {},
   "outputs": [
    {
     "name": "stdout",
     "output_type": "stream",
     "text": [
      "Accuracy: 0.8737\n"
     ]
    }
   ],
   "source": [
    "# Predict on training set\n",
    "train_predict = log_reg.predict(X_train_flat)\n",
    "print('Accuracy:', accuracy_score(y_train, train_predict))"
   ]
  },
  {
   "cell_type": "code",
   "execution_count": 81,
   "metadata": {},
   "outputs": [
    {
     "name": "stdout",
     "output_type": "stream",
     "text": [
      "Accuracy: 0.8433\n"
     ]
    }
   ],
   "source": [
    "# Predict on test set\n",
    "test_predict = log_reg.predict(X_test_flat)\n",
    "print('Accuracy:', accuracy_score(y_test, test_predict))"
   ]
  },
  {
   "cell_type": "code",
   "execution_count": 97,
   "metadata": {},
   "outputs": [
    {
     "data": {
      "image/png": "[encoded data removed]",
      "text/plain": [
       "<Figure size 720x720 with 2 Axes>"
      ]
     },
     "metadata": {},
     "output_type": "display_data"
    }
   ],
   "source": [
    "plt.figure(figsize=(10,10))\n",
    "sns.heatmap(confusion_matrix(y_test, test_predict), cmap=\"YlGnBu\", annot=True, fmt=\"d\",\n",
    "           xticklabels=['Tee/top', 'Trouser', 'Pullover', 'Dress', 'Coat', 'Sandal', 'Shirt', 'Sneaker', 'Bag', 'Ankle boot'],\n",
    "           yticklabels=['Tee/top', 'Trouser', 'Pullover', 'Dress', 'Coat', 'Sandal', 'Shirt', 'Sneaker', 'Bag', 'Ankle boot'])\n",
    "plt.title(f'Accuracy score: {accuracy_score(y_test, test_predict)}', fontsize=20)\n",
    "plt.show()"
   ]
  },
  {
   "cell_type": "code",
   "execution_count": 91,
   "metadata": {},
   "outputs": [
    {
     "name": "stdout",
     "output_type": "stream",
     "text": [
      "[7 4 9 ... 4 6 8]\n"
     ]
    },
    {
     "data": {
      "image/png": "[encoded data removed]",
      "text/plain": [
       "<Figure size 1440x1440 with 10 Axes>"
      ]
     },
     "metadata": {},
     "output_type": "display_data"
    }
   ],
   "source": [
    "wrong_predicted_images = X_test_flat[y_test != test_predict].reshape((-1, 28, 28))\n",
    "wrong_predictions = test_predict[y_test != test_predict]\n",
    "right_label = y_test[y_test != test_predict]\n",
    "plot_images(wrong_predicted_images[:10], wrong_predictions[:10])\n"
   ]
  },
  {
   "cell_type": "code",
   "execution_count": 99,
   "metadata": {},
   "outputs": [],
   "source": [
    "import pickle\n",
    "\n",
    "pickle.dump(log_reg, open('log_reg_1_84.pkl', 'wb'))"
   ]
  },
  {
   "cell_type": "code",
   "execution_count": 100,
   "metadata": {},
   "outputs": [
    {
     "name": "stdout",
     "output_type": "stream",
     "text": [
      "Accuracy score: 0.8433\n"
     ]
    }
   ],
   "source": [
    "with open('log_reg_1_84.pkl', 'rb') as model:\n",
    "    reload_model = pickle.load(model)\n",
    "\n",
    "predictions = reload_model.predict(X_test_flat)\n",
    "print(f'Accuracy score: {accuracy_score(y_test, predictions)}')"
   ]
  },
  {
   "cell_type": "markdown",
   "metadata": {},
   "source": [
    "## **Using SVM**"
   ]
  },
  {
   "cell_type": "code",
   "execution_count": 102,
   "metadata": {},
   "outputs": [],
   "source": [
    "from sklearn.svm import SVC\n",
    "from sklearn.model_selection import GridSearchCV\n",
    "from sklearn.model_selection import RandomizedSearchCV"
   ]
  },
  {
   "cell_type": "code",
   "execution_count": 105,
   "metadata": {},
   "outputs": [
    {
     "data": {
      "text/plain": [
       "GridSearchCV(estimator=SVC(), n_jobs=-1,\n",
       "             param_grid=[{'C': [1, 10, 100], 'kernel': ['poly', 'rbf']}],\n",
       "             scoring='accuracy')"
      ]
     },
     "execution_count": 105,
     "metadata": {},
     "output_type": "execute_result"
    }
   ],
   "source": [
    "parameters = [{'kernel': ['poly', 'rbf'],\n",
    "              'C':[1, 10, 100]}]\n",
    "\n",
    "model = SVC()\n",
    "\n",
    "gridsearch_models = GridSearchCV(estimator=model,\n",
    "                                 param_grid=parameters,\n",
    "                                 scoring='accuracy',\n",
    "                                 n_jobs=-1)\n",
    "\n",
    "gridsearch_models.fit(X_train_flat, y_train)"
   ]
  },
  {
   "cell_type": "code",
   "execution_count": 106,
   "metadata": {},
   "outputs": [
    {
     "data": {
      "text/html": [
       "<div>\n",
       "<style scoped>\n",
       "    .dataframe tbody tr th:only-of-type {\n",
       "        vertical-align: middle;\n",
       "    }\n",
       "\n",
       "    .dataframe tbody tr th {\n",
       "        vertical-align: top;\n",
       "    }\n",
       "\n",
       "    .dataframe thead th {\n",
       "        text-align: right;\n",
       "    }\n",
       "</style>\n",
       "<table border=\"1\" class=\"dataframe\">\n",
       "  <thead>\n",
       "    <tr style=\"text-align: right;\">\n",
       "      <th></th>\n",
       "      <th>mean_fit_time</th>\n",
       "      <th>std_fit_time</th>\n",
       "      <th>mean_score_time</th>\n",
       "      <th>std_score_time</th>\n",
       "      <th>param_C</th>\n",
       "      <th>param_kernel</th>\n",
       "      <th>params</th>\n",
       "      <th>split0_test_score</th>\n",
       "      <th>split1_test_score</th>\n",
       "      <th>split2_test_score</th>\n",
       "      <th>split3_test_score</th>\n",
       "      <th>split4_test_score</th>\n",
       "      <th>mean_test_score</th>\n",
       "      <th>std_test_score</th>\n",
       "      <th>rank_test_score</th>\n",
       "    </tr>\n",
       "  </thead>\n",
       "  <tbody>\n",
       "    <tr>\n",
       "      <th>0</th>\n",
       "      <td>696.531290</td>\n",
       "      <td>9.870114</td>\n",
       "      <td>257.830219</td>\n",
       "      <td>5.290639</td>\n",
       "      <td>1</td>\n",
       "      <td>poly</td>\n",
       "      <td>{'C': 1, 'kernel': 'poly'}</td>\n",
       "      <td>0.867500</td>\n",
       "      <td>0.861750</td>\n",
       "      <td>0.867333</td>\n",
       "      <td>0.868583</td>\n",
       "      <td>0.863417</td>\n",
       "      <td>0.865717</td>\n",
       "      <td>0.002647</td>\n",
       "      <td>6</td>\n",
       "    </tr>\n",
       "    <tr>\n",
       "      <th>1</th>\n",
       "      <td>553.584813</td>\n",
       "      <td>3.313340</td>\n",
       "      <td>275.731685</td>\n",
       "      <td>1.453134</td>\n",
       "      <td>1</td>\n",
       "      <td>rbf</td>\n",
       "      <td>{'C': 1, 'kernel': 'rbf'}</td>\n",
       "      <td>0.892500</td>\n",
       "      <td>0.884333</td>\n",
       "      <td>0.891333</td>\n",
       "      <td>0.893250</td>\n",
       "      <td>0.886167</td>\n",
       "      <td>0.889517</td>\n",
       "      <td>0.003584</td>\n",
       "      <td>3</td>\n",
       "    </tr>\n",
       "    <tr>\n",
       "      <th>2</th>\n",
       "      <td>532.410898</td>\n",
       "      <td>2.580705</td>\n",
       "      <td>217.495412</td>\n",
       "      <td>2.312704</td>\n",
       "      <td>10</td>\n",
       "      <td>poly</td>\n",
       "      <td>{'C': 10, 'kernel': 'poly'}</td>\n",
       "      <td>0.885833</td>\n",
       "      <td>0.879167</td>\n",
       "      <td>0.883833</td>\n",
       "      <td>0.887917</td>\n",
       "      <td>0.882167</td>\n",
       "      <td>0.883783</td>\n",
       "      <td>0.003007</td>\n",
       "      <td>4</td>\n",
       "    </tr>\n",
       "    <tr>\n",
       "      <th>3</th>\n",
       "      <td>501.107433</td>\n",
       "      <td>2.014306</td>\n",
       "      <td>250.795298</td>\n",
       "      <td>0.999541</td>\n",
       "      <td>10</td>\n",
       "      <td>rbf</td>\n",
       "      <td>{'C': 10, 'kernel': 'rbf'}</td>\n",
       "      <td>0.904417</td>\n",
       "      <td>0.899833</td>\n",
       "      <td>0.904917</td>\n",
       "      <td>0.906250</td>\n",
       "      <td>0.900667</td>\n",
       "      <td>0.903217</td>\n",
       "      <td>0.002509</td>\n",
       "      <td>1</td>\n",
       "    </tr>\n",
       "    <tr>\n",
       "      <th>4</th>\n",
       "      <td>447.391971</td>\n",
       "      <td>4.937919</td>\n",
       "      <td>197.607087</td>\n",
       "      <td>2.912249</td>\n",
       "      <td>100</td>\n",
       "      <td>poly</td>\n",
       "      <td>{'C': 100, 'kernel': 'poly'}</td>\n",
       "      <td>0.881833</td>\n",
       "      <td>0.880583</td>\n",
       "      <td>0.884417</td>\n",
       "      <td>0.884500</td>\n",
       "      <td>0.879083</td>\n",
       "      <td>0.882083</td>\n",
       "      <td>0.002126</td>\n",
       "      <td>5</td>\n",
       "    </tr>\n",
       "    <tr>\n",
       "      <th>5</th>\n",
       "      <td>451.140922</td>\n",
       "      <td>68.233400</td>\n",
       "      <td>225.669495</td>\n",
       "      <td>38.786490</td>\n",
       "      <td>100</td>\n",
       "      <td>rbf</td>\n",
       "      <td>{'C': 100, 'kernel': 'rbf'}</td>\n",
       "      <td>0.895750</td>\n",
       "      <td>0.893833</td>\n",
       "      <td>0.897833</td>\n",
       "      <td>0.901083</td>\n",
       "      <td>0.896000</td>\n",
       "      <td>0.896900</td>\n",
       "      <td>0.002446</td>\n",
       "      <td>2</td>\n",
       "    </tr>\n",
       "  </tbody>\n",
       "</table>\n",
       "</div>"
      ],
      "text/plain": [
       "   mean_fit_time  std_fit_time  mean_score_time  std_score_time param_C  \\\n",
       "0     696.531290      9.870114       257.830219        5.290639       1   \n",
       "1     553.584813      3.313340       275.731685        1.453134       1   \n",
       "2     532.410898      2.580705       217.495412        2.312704      10   \n",
       "3     501.107433      2.014306       250.795298        0.999541      10   \n",
       "4     447.391971      4.937919       197.607087        2.912249     100   \n",
       "5     451.140922     68.233400       225.669495       38.786490     100   \n",
       "\n",
       "  param_kernel                        params  split0_test_score  \\\n",
       "0         poly    {'C': 1, 'kernel': 'poly'}           0.867500   \n",
       "1          rbf     {'C': 1, 'kernel': 'rbf'}           0.892500   \n",
       "2         poly   {'C': 10, 'kernel': 'poly'}           0.885833   \n",
       "3          rbf    {'C': 10, 'kernel': 'rbf'}           0.904417   \n",
       "4         poly  {'C': 100, 'kernel': 'poly'}           0.881833   \n",
       "5          rbf   {'C': 100, 'kernel': 'rbf'}           0.895750   \n",
       "\n",
       "   split1_test_score  split2_test_score  split3_test_score  split4_test_score  \\\n",
       "0           0.861750           0.867333           0.868583           0.863417   \n",
       "1           0.884333           0.891333           0.893250           0.886167   \n",
       "2           0.879167           0.883833           0.887917           0.882167   \n",
       "3           0.899833           0.904917           0.906250           0.900667   \n",
       "4           0.880583           0.884417           0.884500           0.879083   \n",
       "5           0.893833           0.897833           0.901083           0.896000   \n",
       "\n",
       "   mean_test_score  std_test_score  rank_test_score  \n",
       "0         0.865717        0.002647                6  \n",
       "1         0.889517        0.003584                3  \n",
       "2         0.883783        0.003007                4  \n",
       "3         0.903217        0.002509                1  \n",
       "4         0.882083        0.002126                5  \n",
       "5         0.896900        0.002446                2  "
      ]
     },
     "execution_count": 106,
     "metadata": {},
     "output_type": "execute_result"
    }
   ],
   "source": [
    "pd.DataFrame(gridsearch_models.cv_results_)[['mean_fit_time', 'param_C', 'param_kernel', 'mean_test_score', 'rank_test_score']]"
   ]
  },
  {
   "cell_type": "code",
   "execution_count": 114,
   "metadata": {},
   "outputs": [
    {
     "data": {
      "text/html": [
       "<div>\n",
       "<style scoped>\n",
       "    .dataframe tbody tr th:only-of-type {\n",
       "        vertical-align: middle;\n",
       "    }\n",
       "\n",
       "    .dataframe tbody tr th {\n",
       "        vertical-align: top;\n",
       "    }\n",
       "\n",
       "    .dataframe thead th {\n",
       "        text-align: right;\n",
       "    }\n",
       "</style>\n",
       "<table border=\"1\" class=\"dataframe\">\n",
       "  <thead>\n",
       "    <tr style=\"text-align: right;\">\n",
       "      <th></th>\n",
       "      <th>mean_fit_time</th>\n",
       "      <th>param_C</th>\n",
       "      <th>param_kernel</th>\n",
       "      <th>mean_test_score</th>\n",
       "      <th>rank_test_score</th>\n",
       "    </tr>\n",
       "  </thead>\n",
       "  <tbody>\n",
       "    <tr>\n",
       "      <th>0</th>\n",
       "      <td>696.531290</td>\n",
       "      <td>1</td>\n",
       "      <td>poly</td>\n",
       "      <td>0.865717</td>\n",
       "      <td>6</td>\n",
       "    </tr>\n",
       "    <tr>\n",
       "      <th>1</th>\n",
       "      <td>553.584813</td>\n",
       "      <td>1</td>\n",
       "      <td>rbf</td>\n",
       "      <td>0.889517</td>\n",
       "      <td>3</td>\n",
       "    </tr>\n",
       "    <tr>\n",
       "      <th>2</th>\n",
       "      <td>532.410898</td>\n",
       "      <td>10</td>\n",
       "      <td>poly</td>\n",
       "      <td>0.883783</td>\n",
       "      <td>4</td>\n",
       "    </tr>\n",
       "    <tr>\n",
       "      <th>3</th>\n",
       "      <td>501.107433</td>\n",
       "      <td>10</td>\n",
       "      <td>rbf</td>\n",
       "      <td>0.903217</td>\n",
       "      <td>1</td>\n",
       "    </tr>\n",
       "    <tr>\n",
       "      <th>4</th>\n",
       "      <td>447.391971</td>\n",
       "      <td>100</td>\n",
       "      <td>poly</td>\n",
       "      <td>0.882083</td>\n",
       "      <td>5</td>\n",
       "    </tr>\n",
       "    <tr>\n",
       "      <th>5</th>\n",
       "      <td>451.140922</td>\n",
       "      <td>100</td>\n",
       "      <td>rbf</td>\n",
       "      <td>0.896900</td>\n",
       "      <td>2</td>\n",
       "    </tr>\n",
       "  </tbody>\n",
       "</table>\n",
       "</div>"
      ],
      "text/plain": [
       "   mean_fit_time param_C param_kernel  mean_test_score  rank_test_score\n",
       "0     696.531290       1         poly         0.865717                6\n",
       "1     553.584813       1          rbf         0.889517                3\n",
       "2     532.410898      10         poly         0.883783                4\n",
       "3     501.107433      10          rbf         0.903217                1\n",
       "4     447.391971     100         poly         0.882083                5\n",
       "5     451.140922     100          rbf         0.896900                2"
      ]
     },
     "execution_count": 114,
     "metadata": {},
     "output_type": "execute_result"
    }
   ],
   "source": [
    "pd.DataFrame(gridsearch_models.cv_results_)[['mean_fit_time', 'param_C', 'param_kernel', 'mean_test_score', 'rank_test_score']]"
   ]
  },
  {
   "cell_type": "code",
   "execution_count": 107,
   "metadata": {},
   "outputs": [
    {
     "name": "stdout",
     "output_type": "stream",
     "text": [
      "Best params {'C': 10, 'kernel': 'rbf'}\n",
      "Best score 0.9032166666666667\n"
     ]
    }
   ],
   "source": [
    "print('Best params', gridsearch_models.best_params_)\n",
    "print('Best score', gridsearch_models.best_score_)"
   ]
  },
  {
   "cell_type": "code",
   "execution_count": 109,
   "metadata": {},
   "outputs": [],
   "source": [
    "best_svc = gridsearch_models.best_estimator_"
   ]
  },
  {
   "cell_type": "code",
   "execution_count": 110,
   "metadata": {},
   "outputs": [
    {
     "name": "stdout",
     "output_type": "stream",
     "text": [
      "Accuracy: 0.9002\n"
     ]
    }
   ],
   "source": [
    "# Predict on test set\n",
    "test_predict = best_svc.predict(X_test_flat)\n",
    "print('Accuracy:', accuracy_score(y_test, test_predict))"
   ]
  },
  {
   "cell_type": "code",
   "execution_count": 111,
   "metadata": {},
   "outputs": [
    {
     "data": {
      "image/png": "[encoded data removed]",
      "text/plain": [
       "<Figure size 720x720 with 2 Axes>"
      ]
     },
     "metadata": {},
     "output_type": "display_data"
    }
   ],
   "source": [
    "plt.figure(figsize=(10,10))\n",
    "sns.heatmap(confusion_matrix(y_test, test_predict), cmap=\"YlGnBu\", annot=True, fmt=\"d\",\n",
    "           xticklabels=['Tee/top', 'Trouser', 'Pullover', 'Dress', 'Coat', 'Sandal', 'Shirt', 'Sneaker', 'Bag', 'Ankle boot'],\n",
    "           yticklabels=['Tee/top', 'Trouser', 'Pullover', 'Dress', 'Coat', 'Sandal', 'Shirt', 'Sneaker', 'Bag', 'Ankle boot'])\n",
    "plt.title(f'Accuracy score: {accuracy_score(y_test, test_predict)}', fontsize=20)\n",
    "plt.show()"
   ]
  },
  {
   "cell_type": "code",
   "execution_count": 112,
   "metadata": {},
   "outputs": [],
   "source": [
    "import pickle\n",
    "\n",
    "pickle.dump(best_svc, open('svc_c10_rbf_902_bestscore.pkl', 'wb'))"
   ]
  },
  {
   "cell_type": "code",
   "execution_count": 113,
   "metadata": {},
   "outputs": [
    {
     "data": {
      "text/plain": [
       "SVC(C=10)"
      ]
     },
     "execution_count": 113,
     "metadata": {},
     "output_type": "execute_result"
    }
   ],
   "source": [
    "gridsearch_models.best_estimator_"
   ]
  },
  {
   "cell_type": "markdown",
   "metadata": {},
   "source": [
    "## **Random Forest**"
   ]
  },
  {
   "cell_type": "code",
   "execution_count": 130,
   "metadata": {},
   "outputs": [],
   "source": [
    "from sklearn.ensemble import RandomForestClassifier\n",
    "from sklearn.metrics import mean_squared_error"
   ]
  },
  {
   "cell_type": "code",
   "execution_count": 132,
   "metadata": {},
   "outputs": [
    {
     "data": {
      "text/plain": [
       "RandomForestClassifier(max_depth=100)"
      ]
     },
     "execution_count": 132,
     "metadata": {},
     "output_type": "execute_result"
    }
   ],
   "source": [
    "forest_clf = RandomForestClassifier(n_estimators=100, criterion='gini', max_depth=100)\n",
    "forest_clf.fit(X_train_flat, y_train)"
   ]
  },
  {
   "cell_type": "code",
   "execution_count": 133,
   "metadata": {},
   "outputs": [
    {
     "name": "stdout",
     "output_type": "stream",
     "text": [
      "Accuracy: 1.0\n"
     ]
    }
   ],
   "source": [
    "# Predict on training set\n",
    "forest_train_predict = forest_clf.predict(X_train_flat)\n",
    "print('Accuracy:', accuracy_score(y_train, forest_train_predict))"
   ]
  },
  {
   "cell_type": "code",
   "execution_count": 134,
   "metadata": {},
   "outputs": [
    {
     "name": "stdout",
     "output_type": "stream",
     "text": [
      "Accuracy: 0.8775\n"
     ]
    }
   ],
   "source": [
    "# Predict on test set\n",
    "forest_test_predict = forest_clf.predict(X_test_flat)\n",
    "print('Accuracy:', accuracy_score(y_test, forest_test_predict))"
   ]
  },
  {
   "cell_type": "code",
   "execution_count": null,
   "metadata": {},
   "outputs": [],
   "source": [
    "#### Grid search for n_estimators [50, 100], max_depth [50, 100], criterion ['gini', 'entropy']"
   ]
  },
  {
   "cell_type": "code",
   "execution_count": 137,
   "metadata": {},
   "outputs": [
    {
     "data": {
      "text/plain": [
       "GridSearchCV(estimator=RandomForestClassifier(), n_jobs=-1,\n",
       "             param_grid=[{'criterion': ['gini', 'entropy'],\n",
       "                          'max_depth': [50, 100], 'n_estimators': [50, 100]}],\n",
       "             scoring='accuracy')"
      ]
     },
     "execution_count": 137,
     "metadata": {},
     "output_type": "execute_result"
    }
   ],
   "source": [
    "params_rfclf = [{'n_estimators': [50, 100],\n",
    "              'max_depth':[50, 100],\n",
    "              'criterion':['gini', 'entropy']}]\n",
    "\n",
    "model_rfclf = RandomForestClassifier()\n",
    "\n",
    "gridsearch_rf_clf = GridSearchCV(estimator=model_rfclf,\n",
    "                                 param_grid=params_rfclf,\n",
    "                                 scoring='accuracy',\n",
    "                                 n_jobs=-1)\n",
    "\n",
    "gridsearch_rf_clf.fit(X_train_flat, y_train)"
   ]
  },
  {
   "cell_type": "code",
   "execution_count": 141,
   "metadata": {},
   "outputs": [],
   "source": [
    "rf_clf_result = pd.DataFrame(gridsearch_rf_clf.cv_results_)"
   ]
  },
  {
   "cell_type": "code",
   "execution_count": 144,
   "metadata": {},
   "outputs": [
    {
     "data": {
      "text/html": [
       "<div>\n",
       "<style scoped>\n",
       "    .dataframe tbody tr th:only-of-type {\n",
       "        vertical-align: middle;\n",
       "    }\n",
       "\n",
       "    .dataframe tbody tr th {\n",
       "        vertical-align: top;\n",
       "    }\n",
       "\n",
       "    .dataframe thead th {\n",
       "        text-align: right;\n",
       "    }\n",
       "</style>\n",
       "<table border=\"1\" class=\"dataframe\">\n",
       "  <thead>\n",
       "    <tr style=\"text-align: right;\">\n",
       "      <th></th>\n",
       "      <th>mean_fit_time</th>\n",
       "      <th>std_fit_time</th>\n",
       "      <th>mean_score_time</th>\n",
       "      <th>std_score_time</th>\n",
       "      <th>param_criterion</th>\n",
       "      <th>param_max_depth</th>\n",
       "      <th>param_n_estimators</th>\n",
       "      <th>params</th>\n",
       "      <th>mean_test_score</th>\n",
       "      <th>std_test_score</th>\n",
       "      <th>rank_test_score</th>\n",
       "    </tr>\n",
       "  </thead>\n",
       "  <tbody>\n",
       "    <tr>\n",
       "      <th>0</th>\n",
       "      <td>104.316422</td>\n",
       "      <td>6.239474</td>\n",
       "      <td>1.282537</td>\n",
       "      <td>0.397100</td>\n",
       "      <td>gini</td>\n",
       "      <td>50</td>\n",
       "      <td>50</td>\n",
       "      <td>{'criterion': 'gini', 'max_depth': 50, 'n_esti...</td>\n",
       "      <td>0.878250</td>\n",
       "      <td>0.003576</td>\n",
       "      <td>8</td>\n",
       "    </tr>\n",
       "    <tr>\n",
       "      <th>1</th>\n",
       "      <td>241.279979</td>\n",
       "      <td>17.097855</td>\n",
       "      <td>3.323224</td>\n",
       "      <td>1.309207</td>\n",
       "      <td>gini</td>\n",
       "      <td>50</td>\n",
       "      <td>100</td>\n",
       "      <td>{'criterion': 'gini', 'max_depth': 50, 'n_esti...</td>\n",
       "      <td>0.882683</td>\n",
       "      <td>0.002630</td>\n",
       "      <td>3</td>\n",
       "    </tr>\n",
       "    <tr>\n",
       "      <th>2</th>\n",
       "      <td>102.235732</td>\n",
       "      <td>7.842088</td>\n",
       "      <td>0.711323</td>\n",
       "      <td>0.046017</td>\n",
       "      <td>gini</td>\n",
       "      <td>100</td>\n",
       "      <td>50</td>\n",
       "      <td>{'criterion': 'gini', 'max_depth': 100, 'n_est...</td>\n",
       "      <td>0.879717</td>\n",
       "      <td>0.004226</td>\n",
       "      <td>6</td>\n",
       "    </tr>\n",
       "    <tr>\n",
       "      <th>3</th>\n",
       "      <td>180.931951</td>\n",
       "      <td>2.781037</td>\n",
       "      <td>1.436465</td>\n",
       "      <td>0.085210</td>\n",
       "      <td>gini</td>\n",
       "      <td>100</td>\n",
       "      <td>100</td>\n",
       "      <td>{'criterion': 'gini', 'max_depth': 100, 'n_est...</td>\n",
       "      <td>0.883133</td>\n",
       "      <td>0.001820</td>\n",
       "      <td>1</td>\n",
       "    </tr>\n",
       "    <tr>\n",
       "      <th>4</th>\n",
       "      <td>97.474902</td>\n",
       "      <td>2.512994</td>\n",
       "      <td>0.747269</td>\n",
       "      <td>0.239250</td>\n",
       "      <td>entropy</td>\n",
       "      <td>50</td>\n",
       "      <td>50</td>\n",
       "      <td>{'criterion': 'entropy', 'max_depth': 50, 'n_e...</td>\n",
       "      <td>0.879450</td>\n",
       "      <td>0.002433</td>\n",
       "      <td>7</td>\n",
       "    </tr>\n",
       "    <tr>\n",
       "      <th>5</th>\n",
       "      <td>218.970198</td>\n",
       "      <td>6.385009</td>\n",
       "      <td>1.710821</td>\n",
       "      <td>0.236004</td>\n",
       "      <td>entropy</td>\n",
       "      <td>50</td>\n",
       "      <td>100</td>\n",
       "      <td>{'criterion': 'entropy', 'max_depth': 50, 'n_e...</td>\n",
       "      <td>0.882517</td>\n",
       "      <td>0.003140</td>\n",
       "      <td>4</td>\n",
       "    </tr>\n",
       "    <tr>\n",
       "      <th>6</th>\n",
       "      <td>97.225343</td>\n",
       "      <td>4.286441</td>\n",
       "      <td>0.742034</td>\n",
       "      <td>0.041613</td>\n",
       "      <td>entropy</td>\n",
       "      <td>100</td>\n",
       "      <td>50</td>\n",
       "      <td>{'criterion': 'entropy', 'max_depth': 100, 'n_...</td>\n",
       "      <td>0.879750</td>\n",
       "      <td>0.003128</td>\n",
       "      <td>5</td>\n",
       "    </tr>\n",
       "    <tr>\n",
       "      <th>7</th>\n",
       "      <td>162.485727</td>\n",
       "      <td>27.918291</td>\n",
       "      <td>1.047944</td>\n",
       "      <td>0.211579</td>\n",
       "      <td>entropy</td>\n",
       "      <td>100</td>\n",
       "      <td>100</td>\n",
       "      <td>{'criterion': 'entropy', 'max_depth': 100, 'n_...</td>\n",
       "      <td>0.883067</td>\n",
       "      <td>0.003090</td>\n",
       "      <td>2</td>\n",
       "    </tr>\n",
       "  </tbody>\n",
       "</table>\n",
       "</div>"
      ],
      "text/plain": [
       "   mean_fit_time  std_fit_time  mean_score_time  std_score_time  \\\n",
       "0     104.316422      6.239474         1.282537        0.397100   \n",
       "1     241.279979     17.097855         3.323224        1.309207   \n",
       "2     102.235732      7.842088         0.711323        0.046017   \n",
       "3     180.931951      2.781037         1.436465        0.085210   \n",
       "4      97.474902      2.512994         0.747269        0.239250   \n",
       "5     218.970198      6.385009         1.710821        0.236004   \n",
       "6      97.225343      4.286441         0.742034        0.041613   \n",
       "7     162.485727     27.918291         1.047944        0.211579   \n",
       "\n",
       "  param_criterion param_max_depth param_n_estimators  \\\n",
       "0            gini              50                 50   \n",
       "1            gini              50                100   \n",
       "2            gini             100                 50   \n",
       "3            gini             100                100   \n",
       "4         entropy              50                 50   \n",
       "5         entropy              50                100   \n",
       "6         entropy             100                 50   \n",
       "7         entropy             100                100   \n",
       "\n",
       "                                              params  mean_test_score  \\\n",
       "0  {'criterion': 'gini', 'max_depth': 50, 'n_esti...         0.878250   \n",
       "1  {'criterion': 'gini', 'max_depth': 50, 'n_esti...         0.882683   \n",
       "2  {'criterion': 'gini', 'max_depth': 100, 'n_est...         0.879717   \n",
       "3  {'criterion': 'gini', 'max_depth': 100, 'n_est...         0.883133   \n",
       "4  {'criterion': 'entropy', 'max_depth': 50, 'n_e...         0.879450   \n",
       "5  {'criterion': 'entropy', 'max_depth': 50, 'n_e...         0.882517   \n",
       "6  {'criterion': 'entropy', 'max_depth': 100, 'n_...         0.879750   \n",
       "7  {'criterion': 'entropy', 'max_depth': 100, 'n_...         0.883067   \n",
       "\n",
       "   std_test_score  rank_test_score  \n",
       "0        0.003576                8  \n",
       "1        0.002630                3  \n",
       "2        0.004226                6  \n",
       "3        0.001820                1  \n",
       "4        0.002433                7  \n",
       "5        0.003140                4  \n",
       "6        0.003128                5  \n",
       "7        0.003090                2  "
      ]
     },
     "execution_count": 144,
     "metadata": {},
     "output_type": "execute_result"
    }
   ],
   "source": [
    "rf_clf_result.drop(columns=['split0_test_score', 'split1_test_score', 'split2_test_score', 'split3_test_score', 'split4_test_score'])"
   ]
  },
  {
   "cell_type": "code",
   "execution_count": 143,
   "metadata": {
    "scrolled": true
   },
   "outputs": [
    {
     "data": {
      "text/html": [
       "<div>\n",
       "<style scoped>\n",
       "    .dataframe tbody tr th:only-of-type {\n",
       "        vertical-align: middle;\n",
       "    }\n",
       "\n",
       "    .dataframe tbody tr th {\n",
       "        vertical-align: top;\n",
       "    }\n",
       "\n",
       "    .dataframe thead th {\n",
       "        text-align: right;\n",
       "    }\n",
       "</style>\n",
       "<table border=\"1\" class=\"dataframe\">\n",
       "  <thead>\n",
       "    <tr style=\"text-align: right;\">\n",
       "      <th></th>\n",
       "      <th>mean_fit_time</th>\n",
       "      <th>std_fit_time</th>\n",
       "      <th>mean_score_time</th>\n",
       "      <th>std_score_time</th>\n",
       "      <th>param_criterion</th>\n",
       "      <th>param_max_depth</th>\n",
       "      <th>param_n_estimators</th>\n",
       "      <th>params</th>\n",
       "      <th>split0_test_score</th>\n",
       "      <th>split1_test_score</th>\n",
       "      <th>split2_test_score</th>\n",
       "      <th>split3_test_score</th>\n",
       "      <th>split4_test_score</th>\n",
       "      <th>mean_test_score</th>\n",
       "      <th>std_test_score</th>\n",
       "      <th>rank_test_score</th>\n",
       "    </tr>\n",
       "  </thead>\n",
       "  <tbody>\n",
       "    <tr>\n",
       "      <th>0</th>\n",
       "      <td>104.316422</td>\n",
       "      <td>6.239474</td>\n",
       "      <td>1.282537</td>\n",
       "      <td>0.397100</td>\n",
       "      <td>gini</td>\n",
       "      <td>50</td>\n",
       "      <td>50</td>\n",
       "      <td>{'criterion': 'gini', 'max_depth': 50, 'n_esti...</td>\n",
       "      <td>0.876583</td>\n",
       "      <td>0.872250</td>\n",
       "      <td>0.882083</td>\n",
       "      <td>0.881417</td>\n",
       "      <td>0.878917</td>\n",
       "      <td>0.878250</td>\n",
       "      <td>0.003576</td>\n",
       "      <td>8</td>\n",
       "    </tr>\n",
       "    <tr>\n",
       "      <th>1</th>\n",
       "      <td>241.279979</td>\n",
       "      <td>17.097855</td>\n",
       "      <td>3.323224</td>\n",
       "      <td>1.309207</td>\n",
       "      <td>gini</td>\n",
       "      <td>50</td>\n",
       "      <td>100</td>\n",
       "      <td>{'criterion': 'gini', 'max_depth': 50, 'n_esti...</td>\n",
       "      <td>0.884250</td>\n",
       "      <td>0.877750</td>\n",
       "      <td>0.885250</td>\n",
       "      <td>0.883750</td>\n",
       "      <td>0.882417</td>\n",
       "      <td>0.882683</td>\n",
       "      <td>0.002630</td>\n",
       "      <td>3</td>\n",
       "    </tr>\n",
       "    <tr>\n",
       "      <th>2</th>\n",
       "      <td>102.235732</td>\n",
       "      <td>7.842088</td>\n",
       "      <td>0.711323</td>\n",
       "      <td>0.046017</td>\n",
       "      <td>gini</td>\n",
       "      <td>100</td>\n",
       "      <td>50</td>\n",
       "      <td>{'criterion': 'gini', 'max_depth': 100, 'n_est...</td>\n",
       "      <td>0.879583</td>\n",
       "      <td>0.873000</td>\n",
       "      <td>0.883750</td>\n",
       "      <td>0.884583</td>\n",
       "      <td>0.877667</td>\n",
       "      <td>0.879717</td>\n",
       "      <td>0.004226</td>\n",
       "      <td>6</td>\n",
       "    </tr>\n",
       "    <tr>\n",
       "      <th>3</th>\n",
       "      <td>180.931951</td>\n",
       "      <td>2.781037</td>\n",
       "      <td>1.436465</td>\n",
       "      <td>0.085210</td>\n",
       "      <td>gini</td>\n",
       "      <td>100</td>\n",
       "      <td>100</td>\n",
       "      <td>{'criterion': 'gini', 'max_depth': 100, 'n_est...</td>\n",
       "      <td>0.883917</td>\n",
       "      <td>0.879833</td>\n",
       "      <td>0.885333</td>\n",
       "      <td>0.883583</td>\n",
       "      <td>0.883000</td>\n",
       "      <td>0.883133</td>\n",
       "      <td>0.001820</td>\n",
       "      <td>1</td>\n",
       "    </tr>\n",
       "    <tr>\n",
       "      <th>4</th>\n",
       "      <td>97.474902</td>\n",
       "      <td>2.512994</td>\n",
       "      <td>0.747269</td>\n",
       "      <td>0.239250</td>\n",
       "      <td>entropy</td>\n",
       "      <td>50</td>\n",
       "      <td>50</td>\n",
       "      <td>{'criterion': 'entropy', 'max_depth': 50, 'n_e...</td>\n",
       "      <td>0.881500</td>\n",
       "      <td>0.875750</td>\n",
       "      <td>0.881083</td>\n",
       "      <td>0.881583</td>\n",
       "      <td>0.877333</td>\n",
       "      <td>0.879450</td>\n",
       "      <td>0.002433</td>\n",
       "      <td>7</td>\n",
       "    </tr>\n",
       "    <tr>\n",
       "      <th>5</th>\n",
       "      <td>218.970198</td>\n",
       "      <td>6.385009</td>\n",
       "      <td>1.710821</td>\n",
       "      <td>0.236004</td>\n",
       "      <td>entropy</td>\n",
       "      <td>50</td>\n",
       "      <td>100</td>\n",
       "      <td>{'criterion': 'entropy', 'max_depth': 50, 'n_e...</td>\n",
       "      <td>0.881667</td>\n",
       "      <td>0.877167</td>\n",
       "      <td>0.884833</td>\n",
       "      <td>0.886333</td>\n",
       "      <td>0.882583</td>\n",
       "      <td>0.882517</td>\n",
       "      <td>0.003140</td>\n",
       "      <td>4</td>\n",
       "    </tr>\n",
       "    <tr>\n",
       "      <th>6</th>\n",
       "      <td>97.225343</td>\n",
       "      <td>4.286441</td>\n",
       "      <td>0.742034</td>\n",
       "      <td>0.041613</td>\n",
       "      <td>entropy</td>\n",
       "      <td>100</td>\n",
       "      <td>50</td>\n",
       "      <td>{'criterion': 'entropy', 'max_depth': 100, 'n_...</td>\n",
       "      <td>0.881250</td>\n",
       "      <td>0.874750</td>\n",
       "      <td>0.880667</td>\n",
       "      <td>0.884000</td>\n",
       "      <td>0.878083</td>\n",
       "      <td>0.879750</td>\n",
       "      <td>0.003128</td>\n",
       "      <td>5</td>\n",
       "    </tr>\n",
       "    <tr>\n",
       "      <th>7</th>\n",
       "      <td>162.485727</td>\n",
       "      <td>27.918291</td>\n",
       "      <td>1.047944</td>\n",
       "      <td>0.211579</td>\n",
       "      <td>entropy</td>\n",
       "      <td>100</td>\n",
       "      <td>100</td>\n",
       "      <td>{'criterion': 'entropy', 'max_depth': 100, 'n_...</td>\n",
       "      <td>0.881000</td>\n",
       "      <td>0.879250</td>\n",
       "      <td>0.887167</td>\n",
       "      <td>0.886250</td>\n",
       "      <td>0.881667</td>\n",
       "      <td>0.883067</td>\n",
       "      <td>0.003090</td>\n",
       "      <td>2</td>\n",
       "    </tr>\n",
       "  </tbody>\n",
       "</table>\n",
       "</div>"
      ],
      "text/plain": [
       "   mean_fit_time  std_fit_time  mean_score_time  std_score_time  \\\n",
       "0     104.316422      6.239474         1.282537        0.397100   \n",
       "1     241.279979     17.097855         3.323224        1.309207   \n",
       "2     102.235732      7.842088         0.711323        0.046017   \n",
       "3     180.931951      2.781037         1.436465        0.085210   \n",
       "4      97.474902      2.512994         0.747269        0.239250   \n",
       "5     218.970198      6.385009         1.710821        0.236004   \n",
       "6      97.225343      4.286441         0.742034        0.041613   \n",
       "7     162.485727     27.918291         1.047944        0.211579   \n",
       "\n",
       "  param_criterion param_max_depth param_n_estimators  \\\n",
       "0            gini              50                 50   \n",
       "1            gini              50                100   \n",
       "2            gini             100                 50   \n",
       "3            gini             100                100   \n",
       "4         entropy              50                 50   \n",
       "5         entropy              50                100   \n",
       "6         entropy             100                 50   \n",
       "7         entropy             100                100   \n",
       "\n",
       "                                              params  split0_test_score  \\\n",
       "0  {'criterion': 'gini', 'max_depth': 50, 'n_esti...           0.876583   \n",
       "1  {'criterion': 'gini', 'max_depth': 50, 'n_esti...           0.884250   \n",
       "2  {'criterion': 'gini', 'max_depth': 100, 'n_est...           0.879583   \n",
       "3  {'criterion': 'gini', 'max_depth': 100, 'n_est...           0.883917   \n",
       "4  {'criterion': 'entropy', 'max_depth': 50, 'n_e...           0.881500   \n",
       "5  {'criterion': 'entropy', 'max_depth': 50, 'n_e...           0.881667   \n",
       "6  {'criterion': 'entropy', 'max_depth': 100, 'n_...           0.881250   \n",
       "7  {'criterion': 'entropy', 'max_depth': 100, 'n_...           0.881000   \n",
       "\n",
       "   split1_test_score  split2_test_score  split3_test_score  split4_test_score  \\\n",
       "0           0.872250           0.882083           0.881417           0.878917   \n",
       "1           0.877750           0.885250           0.883750           0.882417   \n",
       "2           0.873000           0.883750           0.884583           0.877667   \n",
       "3           0.879833           0.885333           0.883583           0.883000   \n",
       "4           0.875750           0.881083           0.881583           0.877333   \n",
       "5           0.877167           0.884833           0.886333           0.882583   \n",
       "6           0.874750           0.880667           0.884000           0.878083   \n",
       "7           0.879250           0.887167           0.886250           0.881667   \n",
       "\n",
       "   mean_test_score  std_test_score  rank_test_score  \n",
       "0         0.878250        0.003576                8  \n",
       "1         0.882683        0.002630                3  \n",
       "2         0.879717        0.004226                6  \n",
       "3         0.883133        0.001820                1  \n",
       "4         0.879450        0.002433                7  \n",
       "5         0.882517        0.003140                4  \n",
       "6         0.879750        0.003128                5  \n",
       "7         0.883067        0.003090                2  "
      ]
     },
     "execution_count": 143,
     "metadata": {},
     "output_type": "execute_result"
    }
   ],
   "source": [
    "rf_clf_result"
   ]
  },
  {
   "cell_type": "markdown",
   "metadata": {},
   "source": [
    "## XGBoost"
   ]
  },
  {
   "cell_type": "code",
   "execution_count": null,
   "metadata": {},
   "outputs": [],
   "source": []
  }
 ],
 "metadata": {
  "accelerator": "GPU",
  "colab": {
   "collapsed_sections": [],
   "name": "Sample_Code_of_Fashion_MNIST.ipynb",
   "provenance": []
  },
  "kernelspec": {
   "display_name": "Python 3",
   "language": "python",
   "name": "python3"
  },
  "language_info": {
   "codemirror_mode": {
    "name": "ipython",
    "version": 3
   },
   "file_extension": ".py",
   "mimetype": "text/x-python",
   "name": "python",
   "nbconvert_exporter": "python",
   "pygments_lexer": "ipython3",
   "version": "3.7.8"
  }
 },
 "nbformat": 4,
 "nbformat_minor": 1
}
